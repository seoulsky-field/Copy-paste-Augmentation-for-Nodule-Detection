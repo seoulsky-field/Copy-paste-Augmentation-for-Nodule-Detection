{
 "cells": [
  {
   "cell_type": "code",
   "execution_count": 28,
   "metadata": {},
   "outputs": [],
   "source": [
    "from glob import glob\n",
    "import pydicom\n",
    "import pandas as pd\n",
    "from tqdm import tqdm"
   ]
  },
  {
   "cell_type": "code",
   "execution_count": 3,
   "metadata": {},
   "outputs": [],
   "source": [
    "df = pd.read_csv(\"../preprocess/nii_1018.csv\")"
   ]
  },
  {
   "cell_type": "code",
   "execution_count": 4,
   "metadata": {},
   "outputs": [
    {
     "data": {
      "text/html": [
       "<div>\n",
       "<style scoped>\n",
       "    .dataframe tbody tr th:only-of-type {\n",
       "        vertical-align: middle;\n",
       "    }\n",
       "\n",
       "    .dataframe tbody tr th {\n",
       "        vertical-align: top;\n",
       "    }\n",
       "\n",
       "    .dataframe thead th {\n",
       "        text-align: right;\n",
       "    }\n",
       "</style>\n",
       "<table border=\"1\" class=\"dataframe\">\n",
       "  <thead>\n",
       "    <tr style=\"text-align: right;\">\n",
       "      <th></th>\n",
       "      <th>path</th>\n",
       "      <th>sid</th>\n",
       "      <th>series_uid</th>\n",
       "      <th>width</th>\n",
       "      <th>height</th>\n",
       "      <th>num_slices</th>\n",
       "      <th>num_nodules</th>\n",
       "    </tr>\n",
       "  </thead>\n",
       "  <tbody>\n",
       "    <tr>\n",
       "      <th>0</th>\n",
       "      <td>NII_norm/LIDC-IDRI-0001_01-01-2000-NA-NA-30178...</td>\n",
       "      <td>LIDC-IDRI-0001</td>\n",
       "      <td>1.3.6.1.4.1.14519.5.2.1.6279.6001.179049373636...</td>\n",
       "      <td>360</td>\n",
       "      <td>332</td>\n",
       "      <td>133</td>\n",
       "      <td>1</td>\n",
       "    </tr>\n",
       "    <tr>\n",
       "      <th>1</th>\n",
       "      <td>NII_norm/LIDC-IDRI-0002_01-01-2000-NA-NA-98329...</td>\n",
       "      <td>LIDC-IDRI-0002</td>\n",
       "      <td>1.3.6.1.4.1.14519.5.2.1.6279.6001.619372068417...</td>\n",
       "      <td>349</td>\n",
       "      <td>326</td>\n",
       "      <td>261</td>\n",
       "      <td>1</td>\n",
       "    </tr>\n",
       "    <tr>\n",
       "      <th>2</th>\n",
       "      <td>NII_norm/LIDC-IDRI-0003_01-01-2000-NA-NA-94866...</td>\n",
       "      <td>LIDC-IDRI-0003</td>\n",
       "      <td>1.3.6.1.4.1.14519.5.2.1.6279.6001.170706757615...</td>\n",
       "      <td>420</td>\n",
       "      <td>350</td>\n",
       "      <td>140</td>\n",
       "      <td>4</td>\n",
       "    </tr>\n",
       "    <tr>\n",
       "      <th>3</th>\n",
       "      <td>NII_norm/LIDC-IDRI-0004_01-01-2000-NA-NA-91780...</td>\n",
       "      <td>LIDC-IDRI-0004</td>\n",
       "      <td>1.3.6.1.4.1.14519.5.2.1.6279.6001.323541312620...</td>\n",
       "      <td>421</td>\n",
       "      <td>301</td>\n",
       "      <td>241</td>\n",
       "      <td>1</td>\n",
       "    </tr>\n",
       "    <tr>\n",
       "      <th>4</th>\n",
       "      <td>NII_norm/LIDC-IDRI-0005_01-01-2000-NA-NA-42125...</td>\n",
       "      <td>LIDC-IDRI-0005</td>\n",
       "      <td>1.3.6.1.4.1.14519.5.2.1.6279.6001.129007566048...</td>\n",
       "      <td>340</td>\n",
       "      <td>332</td>\n",
       "      <td>133</td>\n",
       "      <td>5</td>\n",
       "    </tr>\n",
       "    <tr>\n",
       "      <th>...</th>\n",
       "      <td>...</td>\n",
       "      <td>...</td>\n",
       "      <td>...</td>\n",
       "      <td>...</td>\n",
       "      <td>...</td>\n",
       "      <td>...</td>\n",
       "      <td>...</td>\n",
       "    </tr>\n",
       "    <tr>\n",
       "      <th>1013</th>\n",
       "      <td>NII_norm/LIDC-IDRI-1008_01-01-2000-NA-NA-10827...</td>\n",
       "      <td>LIDC-IDRI-1008</td>\n",
       "      <td>1.3.6.1.4.1.14519.5.2.1.6279.6001.332510758903...</td>\n",
       "      <td>369</td>\n",
       "      <td>345</td>\n",
       "      <td>115</td>\n",
       "      <td>8</td>\n",
       "    </tr>\n",
       "    <tr>\n",
       "      <th>1014</th>\n",
       "      <td>NII_norm/LIDC-IDRI-1009_01-01-2000-NA-CT THORA...</td>\n",
       "      <td>LIDC-IDRI-1009</td>\n",
       "      <td>1.3.6.1.4.1.14519.5.2.1.6279.6001.855232435861...</td>\n",
       "      <td>360</td>\n",
       "      <td>312</td>\n",
       "      <td>125</td>\n",
       "      <td>0</td>\n",
       "    </tr>\n",
       "    <tr>\n",
       "      <th>1015</th>\n",
       "      <td>NII_norm/LIDC-IDRI-1010_01-01-2000-NA-CT ANGIO...</td>\n",
       "      <td>LIDC-IDRI-1010</td>\n",
       "      <td>1.3.6.1.4.1.14519.5.2.1.6279.6001.550599855064...</td>\n",
       "      <td>400</td>\n",
       "      <td>315</td>\n",
       "      <td>252</td>\n",
       "      <td>1</td>\n",
       "    </tr>\n",
       "    <tr>\n",
       "      <th>1016</th>\n",
       "      <td>NII_norm/LIDC-IDRI-1011_01-01-2000-NA-CT THORA...</td>\n",
       "      <td>LIDC-IDRI-1011</td>\n",
       "      <td>1.3.6.1.4.1.14519.5.2.1.6279.6001.272123398257...</td>\n",
       "      <td>440</td>\n",
       "      <td>332</td>\n",
       "      <td>133</td>\n",
       "      <td>4</td>\n",
       "    </tr>\n",
       "    <tr>\n",
       "      <th>1017</th>\n",
       "      <td>NII_norm/LIDC-IDRI-1012_01-01-2000-1-CHEST-346...</td>\n",
       "      <td>LIDC-IDRI-1012</td>\n",
       "      <td>1.3.6.1.4.1.14519.5.2.1.6279.6001.153646219551...</td>\n",
       "      <td>370</td>\n",
       "      <td>415</td>\n",
       "      <td>166</td>\n",
       "      <td>3</td>\n",
       "    </tr>\n",
       "  </tbody>\n",
       "</table>\n",
       "<p>1018 rows × 7 columns</p>\n",
       "</div>"
      ],
      "text/plain": [
       "                                                   path             sid  \\\n",
       "0     NII_norm/LIDC-IDRI-0001_01-01-2000-NA-NA-30178...  LIDC-IDRI-0001   \n",
       "1     NII_norm/LIDC-IDRI-0002_01-01-2000-NA-NA-98329...  LIDC-IDRI-0002   \n",
       "2     NII_norm/LIDC-IDRI-0003_01-01-2000-NA-NA-94866...  LIDC-IDRI-0003   \n",
       "3     NII_norm/LIDC-IDRI-0004_01-01-2000-NA-NA-91780...  LIDC-IDRI-0004   \n",
       "4     NII_norm/LIDC-IDRI-0005_01-01-2000-NA-NA-42125...  LIDC-IDRI-0005   \n",
       "...                                                 ...             ...   \n",
       "1013  NII_norm/LIDC-IDRI-1008_01-01-2000-NA-NA-10827...  LIDC-IDRI-1008   \n",
       "1014  NII_norm/LIDC-IDRI-1009_01-01-2000-NA-CT THORA...  LIDC-IDRI-1009   \n",
       "1015  NII_norm/LIDC-IDRI-1010_01-01-2000-NA-CT ANGIO...  LIDC-IDRI-1010   \n",
       "1016  NII_norm/LIDC-IDRI-1011_01-01-2000-NA-CT THORA...  LIDC-IDRI-1011   \n",
       "1017  NII_norm/LIDC-IDRI-1012_01-01-2000-1-CHEST-346...  LIDC-IDRI-1012   \n",
       "\n",
       "                                             series_uid  width  height  \\\n",
       "0     1.3.6.1.4.1.14519.5.2.1.6279.6001.179049373636...    360     332   \n",
       "1     1.3.6.1.4.1.14519.5.2.1.6279.6001.619372068417...    349     326   \n",
       "2     1.3.6.1.4.1.14519.5.2.1.6279.6001.170706757615...    420     350   \n",
       "3     1.3.6.1.4.1.14519.5.2.1.6279.6001.323541312620...    421     301   \n",
       "4     1.3.6.1.4.1.14519.5.2.1.6279.6001.129007566048...    340     332   \n",
       "...                                                 ...    ...     ...   \n",
       "1013  1.3.6.1.4.1.14519.5.2.1.6279.6001.332510758903...    369     345   \n",
       "1014  1.3.6.1.4.1.14519.5.2.1.6279.6001.855232435861...    360     312   \n",
       "1015  1.3.6.1.4.1.14519.5.2.1.6279.6001.550599855064...    400     315   \n",
       "1016  1.3.6.1.4.1.14519.5.2.1.6279.6001.272123398257...    440     332   \n",
       "1017  1.3.6.1.4.1.14519.5.2.1.6279.6001.153646219551...    370     415   \n",
       "\n",
       "      num_slices  num_nodules  \n",
       "0            133            1  \n",
       "1            261            1  \n",
       "2            140            4  \n",
       "3            241            1  \n",
       "4            133            5  \n",
       "...          ...          ...  \n",
       "1013         115            8  \n",
       "1014         125            0  \n",
       "1015         252            1  \n",
       "1016         133            4  \n",
       "1017         166            3  \n",
       "\n",
       "[1018 rows x 7 columns]"
      ]
     },
     "execution_count": 4,
     "metadata": {},
     "output_type": "execute_result"
    }
   ],
   "source": [
    "df"
   ]
  },
  {
   "cell_type": "code",
   "execution_count": 9,
   "metadata": {},
   "outputs": [],
   "source": [
    "lst = sorted(glob(\"../data/AVIEW_lungseg/01/*\"))"
   ]
  },
  {
   "cell_type": "code",
   "execution_count": 29,
   "metadata": {},
   "outputs": [
    {
     "name": "stderr",
     "output_type": "stream",
     "text": [
      "100%|██████████| 1308/1308 [00:51<00:00, 25.45it/s]\n"
     ]
    }
   ],
   "source": [
    "ds_dict = {\"aview_dir\": [], \"series_uid\":[]}\n",
    "for st in tqdm(lst):\n",
    "    fname = glob(f\"{st}/SE*/*.dcm\")[0]\n",
    "    ds = pydicom.read_file(fname)\n",
    "    suid = ds[0x020, 0x00e].value\n",
    "    \n",
    "    ds_dict[\"aview_dir\"].append(fname.split(\"/\")[2]+\"/\"+fname.split(\"/\")[3])\n",
    "    ds_dict[\"series_uid\"].append(suid)"
   ]
  },
  {
   "cell_type": "code",
   "execution_count": 30,
   "metadata": {},
   "outputs": [],
   "source": [
    "df_ds = pd.DataFrame(ds_dict)"
   ]
  },
  {
   "cell_type": "code",
   "execution_count": 37,
   "metadata": {},
   "outputs": [],
   "source": [
    "df_new = pd.merge(df, df_ds, on=\"series_uid\").reset_index(drop=True)"
   ]
  },
  {
   "cell_type": "code",
   "execution_count": 39,
   "metadata": {},
   "outputs": [],
   "source": [
    "df_new.to_csv(\"../preprocess/nii_1018_aview.csv\", index=False)"
   ]
  }
 ],
 "metadata": {
  "kernelspec": {
   "display_name": "Python 3",
   "language": "python",
   "name": "python3"
  },
  "language_info": {
   "codemirror_mode": {
    "name": "ipython",
    "version": 3
   },
   "file_extension": ".py",
   "mimetype": "text/x-python",
   "name": "python",
   "nbconvert_exporter": "python",
   "pygments_lexer": "ipython3",
   "version": "3.7.4"
  }
 },
 "nbformat": 4,
 "nbformat_minor": 4
}
