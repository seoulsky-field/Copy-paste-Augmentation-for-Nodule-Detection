{
 "cells": [
  {
   "cell_type": "markdown",
   "metadata": {},
   "source": [
    "# EDA: LIDC-IDRI"
   ]
  },
  {
   "cell_type": "markdown",
   "metadata": {},
   "source": [
    "# 1) metadata.csv"
   ]
  },
  {
   "cell_type": "code",
   "execution_count": 2,
   "metadata": {},
   "outputs": [],
   "source": [
    "from glob import glob\n",
    "import pandas as pd\n",
    "import numpy as np"
   ]
  },
  {
   "cell_type": "code",
   "execution_count": 5,
   "metadata": {},
   "outputs": [
    {
     "data": {
      "text/html": [
       "<div>\n",
       "<style scoped>\n",
       "    .dataframe tbody tr th:only-of-type {\n",
       "        vertical-align: middle;\n",
       "    }\n",
       "\n",
       "    .dataframe tbody tr th {\n",
       "        vertical-align: top;\n",
       "    }\n",
       "\n",
       "    .dataframe thead th {\n",
       "        text-align: right;\n",
       "    }\n",
       "</style>\n",
       "<table border=\"1\" class=\"dataframe\">\n",
       "  <thead>\n",
       "    <tr style=\"text-align: right;\">\n",
       "      <th></th>\n",
       "      <th>Series UID</th>\n",
       "      <th>Collection</th>\n",
       "      <th>3rd Party Analysis</th>\n",
       "      <th>Data Description URI</th>\n",
       "      <th>Subject ID</th>\n",
       "      <th>Study UID</th>\n",
       "      <th>Study Description</th>\n",
       "      <th>Study Date</th>\n",
       "      <th>Series Description</th>\n",
       "      <th>Manufacturer</th>\n",
       "      <th>Modality</th>\n",
       "      <th>SOP Class Name</th>\n",
       "      <th>SOP Class UID</th>\n",
       "      <th>Number of Images</th>\n",
       "      <th>File Size</th>\n",
       "      <th>File Location</th>\n",
       "      <th>Download Timestamp</th>\n",
       "    </tr>\n",
       "  </thead>\n",
       "  <tbody>\n",
       "    <tr>\n",
       "      <td>0</td>\n",
       "      <td>1.3.6.1.4.1.14519.5.2.1.6279.6001.141365756818...</td>\n",
       "      <td>LIDC-IDRI</td>\n",
       "      <td>NaN</td>\n",
       "      <td>https://doi.org/10.7937/K9/TCIA.2015.LO9QL9SX</td>\n",
       "      <td>LIDC-IDRI-0001</td>\n",
       "      <td>1.3.6.1.4.1.14519.5.2.1.6279.6001.175012972118...</td>\n",
       "      <td>NaN</td>\n",
       "      <td>01-01-2000</td>\n",
       "      <td>NaN</td>\n",
       "      <td>GE MEDICAL SYSTEMS</td>\n",
       "      <td>DX</td>\n",
       "      <td>Digital X-Ray Image Storage - For Presentation</td>\n",
       "      <td>1.2.840.10008.5.1.4.1.1.1.1</td>\n",
       "      <td>2</td>\n",
       "      <td>16.36 MB</td>\n",
       "      <td>.\\LIDC-IDRI\\LIDC-IDRI-0001\\01-01-2000-NA-NA-35...</td>\n",
       "      <td>2022-01-07T21:31:00.297</td>\n",
       "    </tr>\n",
       "    <tr>\n",
       "      <td>1</td>\n",
       "      <td>1.3.6.1.4.1.14519.5.2.1.6279.6001.493562949900...</td>\n",
       "      <td>LIDC-IDRI</td>\n",
       "      <td>NaN</td>\n",
       "      <td>https://doi.org/10.7937/K9/TCIA.2015.LO9QL9SX</td>\n",
       "      <td>LIDC-IDRI-0002</td>\n",
       "      <td>1.3.6.1.4.1.14519.5.2.1.6279.6001.116951808801...</td>\n",
       "      <td>NaN</td>\n",
       "      <td>01-01-2000</td>\n",
       "      <td>NaN</td>\n",
       "      <td>GE MEDICAL SYSTEMS</td>\n",
       "      <td>DX</td>\n",
       "      <td>Digital X-Ray Image Storage - For Presentation</td>\n",
       "      <td>1.2.840.10008.5.1.4.1.1.1.1</td>\n",
       "      <td>1</td>\n",
       "      <td>6.91 MB</td>\n",
       "      <td>.\\LIDC-IDRI\\LIDC-IDRI-0002\\01-01-2000-NA-NA-26...</td>\n",
       "      <td>2022-01-07T21:31:02.417</td>\n",
       "    </tr>\n",
       "    <tr>\n",
       "      <td>2</td>\n",
       "      <td>1.3.6.1.4.1.14519.5.2.1.6279.6001.179049373636...</td>\n",
       "      <td>LIDC-IDRI</td>\n",
       "      <td>NaN</td>\n",
       "      <td>https://doi.org/10.7937/K9/TCIA.2015.LO9QL9SX</td>\n",
       "      <td>LIDC-IDRI-0001</td>\n",
       "      <td>1.3.6.1.4.1.14519.5.2.1.6279.6001.298806137288...</td>\n",
       "      <td>NaN</td>\n",
       "      <td>01-01-2000</td>\n",
       "      <td>NaN</td>\n",
       "      <td>GE MEDICAL SYSTEMS</td>\n",
       "      <td>CT</td>\n",
       "      <td>CT Image Storage</td>\n",
       "      <td>1.2.840.10008.5.1.4.1.1.2</td>\n",
       "      <td>133</td>\n",
       "      <td>70.33 MB</td>\n",
       "      <td>.\\LIDC-IDRI\\LIDC-IDRI-0001\\01-01-2000-NA-NA-30...</td>\n",
       "      <td>2022-01-07T21:31:56.689</td>\n",
       "    </tr>\n",
       "    <tr>\n",
       "      <td>3</td>\n",
       "      <td>1.3.6.1.4.1.14519.5.2.1.6279.6001.170706757615...</td>\n",
       "      <td>LIDC-IDRI</td>\n",
       "      <td>NaN</td>\n",
       "      <td>https://doi.org/10.7937/K9/TCIA.2015.LO9QL9SX</td>\n",
       "      <td>LIDC-IDRI-0003</td>\n",
       "      <td>1.3.6.1.4.1.14519.5.2.1.6279.6001.101370605276...</td>\n",
       "      <td>NaN</td>\n",
       "      <td>01-01-2000</td>\n",
       "      <td>NaN</td>\n",
       "      <td>GE MEDICAL SYSTEMS</td>\n",
       "      <td>CT</td>\n",
       "      <td>CT Image Storage</td>\n",
       "      <td>1.2.840.10008.5.1.4.1.1.2</td>\n",
       "      <td>140</td>\n",
       "      <td>74.11 MB</td>\n",
       "      <td>.\\LIDC-IDRI\\LIDC-IDRI-0003\\01-01-2000-NA-NA-94...</td>\n",
       "      <td>2022-01-07T21:32:06.991</td>\n",
       "    </tr>\n",
       "    <tr>\n",
       "      <td>4</td>\n",
       "      <td>1.3.6.1.4.1.14519.5.2.1.6279.6001.142026812390...</td>\n",
       "      <td>LIDC-IDRI</td>\n",
       "      <td>NaN</td>\n",
       "      <td>https://doi.org/10.7937/K9/TCIA.2015.LO9QL9SX</td>\n",
       "      <td>LIDC-IDRI-0003</td>\n",
       "      <td>1.3.6.1.4.1.14519.5.2.1.6279.6001.202063331127...</td>\n",
       "      <td>NaN</td>\n",
       "      <td>01-01-2000</td>\n",
       "      <td>NaN</td>\n",
       "      <td>GE MEDICAL SYSTEMS</td>\n",
       "      <td>DX</td>\n",
       "      <td>Digital X-Ray Image Storage - For Presentation</td>\n",
       "      <td>1.2.840.10008.5.1.4.1.1.1.1</td>\n",
       "      <td>5</td>\n",
       "      <td>38.59 MB</td>\n",
       "      <td>.\\LIDC-IDRI\\LIDC-IDRI-0003\\01-01-2000-NA-NA-59...</td>\n",
       "      <td>2022-01-07T21:32:36.348</td>\n",
       "    </tr>\n",
       "  </tbody>\n",
       "</table>\n",
       "</div>"
      ],
      "text/plain": [
       "                                          Series UID Collection  \\\n",
       "0  1.3.6.1.4.1.14519.5.2.1.6279.6001.141365756818...  LIDC-IDRI   \n",
       "1  1.3.6.1.4.1.14519.5.2.1.6279.6001.493562949900...  LIDC-IDRI   \n",
       "2  1.3.6.1.4.1.14519.5.2.1.6279.6001.179049373636...  LIDC-IDRI   \n",
       "3  1.3.6.1.4.1.14519.5.2.1.6279.6001.170706757615...  LIDC-IDRI   \n",
       "4  1.3.6.1.4.1.14519.5.2.1.6279.6001.142026812390...  LIDC-IDRI   \n",
       "\n",
       "   3rd Party Analysis                           Data Description URI  \\\n",
       "0                 NaN  https://doi.org/10.7937/K9/TCIA.2015.LO9QL9SX   \n",
       "1                 NaN  https://doi.org/10.7937/K9/TCIA.2015.LO9QL9SX   \n",
       "2                 NaN  https://doi.org/10.7937/K9/TCIA.2015.LO9QL9SX   \n",
       "3                 NaN  https://doi.org/10.7937/K9/TCIA.2015.LO9QL9SX   \n",
       "4                 NaN  https://doi.org/10.7937/K9/TCIA.2015.LO9QL9SX   \n",
       "\n",
       "       Subject ID                                          Study UID  \\\n",
       "0  LIDC-IDRI-0001  1.3.6.1.4.1.14519.5.2.1.6279.6001.175012972118...   \n",
       "1  LIDC-IDRI-0002  1.3.6.1.4.1.14519.5.2.1.6279.6001.116951808801...   \n",
       "2  LIDC-IDRI-0001  1.3.6.1.4.1.14519.5.2.1.6279.6001.298806137288...   \n",
       "3  LIDC-IDRI-0003  1.3.6.1.4.1.14519.5.2.1.6279.6001.101370605276...   \n",
       "4  LIDC-IDRI-0003  1.3.6.1.4.1.14519.5.2.1.6279.6001.202063331127...   \n",
       "\n",
       "  Study Description  Study Date Series Description        Manufacturer  \\\n",
       "0               NaN  01-01-2000                NaN  GE MEDICAL SYSTEMS   \n",
       "1               NaN  01-01-2000                NaN  GE MEDICAL SYSTEMS   \n",
       "2               NaN  01-01-2000                NaN  GE MEDICAL SYSTEMS   \n",
       "3               NaN  01-01-2000                NaN  GE MEDICAL SYSTEMS   \n",
       "4               NaN  01-01-2000                NaN  GE MEDICAL SYSTEMS   \n",
       "\n",
       "  Modality                                  SOP Class Name  \\\n",
       "0       DX  Digital X-Ray Image Storage - For Presentation   \n",
       "1       DX  Digital X-Ray Image Storage - For Presentation   \n",
       "2       CT                                CT Image Storage   \n",
       "3       CT                                CT Image Storage   \n",
       "4       DX  Digital X-Ray Image Storage - For Presentation   \n",
       "\n",
       "                 SOP Class UID  Number of Images File Size  \\\n",
       "0  1.2.840.10008.5.1.4.1.1.1.1                 2  16.36 MB   \n",
       "1  1.2.840.10008.5.1.4.1.1.1.1                 1   6.91 MB   \n",
       "2    1.2.840.10008.5.1.4.1.1.2               133  70.33 MB   \n",
       "3    1.2.840.10008.5.1.4.1.1.2               140  74.11 MB   \n",
       "4  1.2.840.10008.5.1.4.1.1.1.1                 5  38.59 MB   \n",
       "\n",
       "                                       File Location       Download Timestamp  \n",
       "0  .\\LIDC-IDRI\\LIDC-IDRI-0001\\01-01-2000-NA-NA-35...  2022-01-07T21:31:00.297  \n",
       "1  .\\LIDC-IDRI\\LIDC-IDRI-0002\\01-01-2000-NA-NA-26...  2022-01-07T21:31:02.417  \n",
       "2  .\\LIDC-IDRI\\LIDC-IDRI-0001\\01-01-2000-NA-NA-30...  2022-01-07T21:31:56.689  \n",
       "3  .\\LIDC-IDRI\\LIDC-IDRI-0003\\01-01-2000-NA-NA-94...  2022-01-07T21:32:06.991  \n",
       "4  .\\LIDC-IDRI\\LIDC-IDRI-0003\\01-01-2000-NA-NA-59...  2022-01-07T21:32:36.348  "
      ]
     },
     "execution_count": 5,
     "metadata": {},
     "output_type": "execute_result"
    }
   ],
   "source": [
    "df = pd.read_csv(\"../preprocess/metadata.csv\")\n",
    "df[:5]"
   ]
  },
  {
   "cell_type": "code",
   "execution_count": 6,
   "metadata": {},
   "outputs": [
    {
     "data": {
      "text/plain": [
       "1.3.6.1.4.1.14519.5.2.1.6279.6001.152684536713461901635595118048    1\n",
       "1.3.6.1.4.1.14519.5.2.1.6279.6001.277008819284134153270739862838    1\n",
       "1.3.6.1.4.1.14519.5.2.1.6279.6001.254176853278710432756285662989    1\n",
       "1.3.6.1.4.1.14519.5.2.1.6279.6001.241083615484551649610616348856    1\n",
       "1.3.6.1.4.1.14519.5.2.1.6279.6001.318165737094336595335967914048    1\n",
       "Name: Series UID, dtype: int64"
      ]
     },
     "execution_count": 6,
     "metadata": {},
     "output_type": "execute_result"
    }
   ],
   "source": [
    "df[\"Series UID\"].value_counts()[:5]"
   ]
  },
  {
   "cell_type": "code",
   "execution_count": 8,
   "metadata": {},
   "outputs": [
    {
     "data": {
      "text/plain": [
       "LIDC-IDRI-0151    3\n",
       "LIDC-IDRI-0132    3\n",
       "LIDC-IDRI-0159    2\n",
       "LIDC-IDRI-0064    2\n",
       "LIDC-IDRI-0252    2\n",
       "LIDC-IDRI-0113    2\n",
       "LIDC-IDRI-0289    2\n",
       "LIDC-IDRI-0268    2\n",
       "LIDC-IDRI-0273    2\n",
       "LIDC-IDRI-0011    2\n",
       "Name: Subject ID, dtype: int64"
      ]
     },
     "execution_count": 8,
     "metadata": {},
     "output_type": "execute_result"
    }
   ],
   "source": [
    "df[\"Subject ID\"].value_counts()[:10]"
   ]
  },
  {
   "cell_type": "markdown",
   "metadata": {},
   "source": [
    "## If you see Number of Images, Scanogram or dose info are included"
   ]
  },
  {
   "cell_type": "code",
   "execution_count": 9,
   "metadata": {},
   "outputs": [
    {
     "data": {
      "text/plain": [
       "2      163\n",
       "1       91\n",
       "133     69\n",
       "4       29\n",
       "127     22\n",
       "238     14\n",
       "139     13\n",
       "117     13\n",
       "123     13\n",
       "280     12\n",
       "Name: Number of Images, dtype: int64"
      ]
     },
     "execution_count": 9,
     "metadata": {},
     "output_type": "execute_result"
    }
   ],
   "source": [
    "df[\"Number of Images\"].value_counts()[:10]"
   ]
  },
  {
   "cell_type": "code",
   "execution_count": 26,
   "metadata": {},
   "outputs": [
    {
     "data": {
      "text/plain": [
       "<AxesSubplot:>"
      ]
     },
     "execution_count": 26,
     "metadata": {},
     "output_type": "execute_result"
    },
    {
     "data": {
      "image/png": "[encoded data removed]",
      "text/plain": [
       "<Figure size 432x288 with 1 Axes>"
      ]
     },
     "metadata": {
      "needs_background": "light"
     },
     "output_type": "display_data"
    }
   ],
   "source": [
    "df[\"Number of Images\"].hist()"
   ]
  },
  {
   "cell_type": "markdown",
   "metadata": {},
   "source": [
    "## Use Number of Images or SOP Class UID -> select only CT series"
   ]
  },
  {
   "cell_type": "code",
   "execution_count": 123,
   "metadata": {},
   "outputs": [
    {
     "data": {
      "text/plain": [
       "1.2.840.10008.5.1.4.1.1.2      1018\n",
       "1.2.840.10008.5.1.4.1.1.1.1     237\n",
       "1.2.840.10008.5.1.4.1.1.1        53\n",
       "Name: SOP Class UID, dtype: int64"
      ]
     },
     "execution_count": 123,
     "metadata": {},
     "output_type": "execute_result"
    }
   ],
   "source": [
    "df[\"SOP Class UID\"].value_counts()"
   ]
  },
  {
   "cell_type": "code",
   "execution_count": 11,
   "metadata": {},
   "outputs": [],
   "source": [
    "df_case = df[df[\"Number of Images\"] > 10].reset_index(drop=True)"
   ]
  },
  {
   "cell_type": "code",
   "execution_count": 14,
   "metadata": {},
   "outputs": [
    {
     "data": {
      "text/plain": [
       "0       1.2.840.10008.5.1.4.1.1.2\n",
       "1       1.2.840.10008.5.1.4.1.1.2\n",
       "2       1.2.840.10008.5.1.4.1.1.2\n",
       "3       1.2.840.10008.5.1.4.1.1.2\n",
       "4       1.2.840.10008.5.1.4.1.1.2\n",
       "                  ...            \n",
       "1013    1.2.840.10008.5.1.4.1.1.2\n",
       "1014    1.2.840.10008.5.1.4.1.1.2\n",
       "1015    1.2.840.10008.5.1.4.1.1.2\n",
       "1016    1.2.840.10008.5.1.4.1.1.2\n",
       "1017    1.2.840.10008.5.1.4.1.1.2\n",
       "Name: SOP Class UID, Length: 1018, dtype: object"
      ]
     },
     "execution_count": 14,
     "metadata": {},
     "output_type": "execute_result"
    }
   ],
   "source": [
    "df_case[\"SOP Class UID\"]"
   ]
  },
  {
   "cell_type": "code",
   "execution_count": 15,
   "metadata": {},
   "outputs": [
    {
     "data": {
      "text/plain": [
       "LIDC-IDRI-0365    2\n",
       "LIDC-IDRI-0332    2\n",
       "LIDC-IDRI-0442    2\n",
       "LIDC-IDRI-0315    2\n",
       "LIDC-IDRI-0151    2\n",
       "                 ..\n",
       "LIDC-IDRI-0584    1\n",
       "LIDC-IDRI-0086    1\n",
       "LIDC-IDRI-0257    1\n",
       "LIDC-IDRI-0080    1\n",
       "LIDC-IDRI-0595    1\n",
       "Name: Subject ID, Length: 1010, dtype: int64"
      ]
     },
     "execution_count": 15,
     "metadata": {},
     "output_type": "execute_result"
    }
   ],
   "source": [
    "df_case[\"Subject ID\"].value_counts()"
   ]
  },
  {
   "cell_type": "code",
   "execution_count": 16,
   "metadata": {},
   "outputs": [
    {
     "data": {
      "text/plain": [
       "65"
      ]
     },
     "execution_count": 16,
     "metadata": {},
     "output_type": "execute_result"
    }
   ],
   "source": [
    "np.min(np.array(df_case[\"Number of Images\"].value_counts().index))"
   ]
  },
  {
   "cell_type": "markdown",
   "metadata": {},
   "source": [
    "## Series UID, Study UID are Unique -> Use Series UID as key"
   ]
  },
  {
   "cell_type": "code",
   "execution_count": 57,
   "metadata": {},
   "outputs": [
    {
     "data": {
      "text/plain": [
       "1.3.6.1.4.1.14519.5.2.1.6279.6001.267957701183569638795986183786    1\n",
       "1.3.6.1.4.1.14519.5.2.1.6279.6001.237215747217294006286437405216    1\n",
       "1.3.6.1.4.1.14519.5.2.1.6279.6001.752756872840730509471096155114    1\n",
       "1.3.6.1.4.1.14519.5.2.1.6279.6001.164790817284381538042494285101    1\n",
       "1.3.6.1.4.1.14519.5.2.1.6279.6001.244204120220889433826451158706    1\n",
       "                                                                   ..\n",
       "1.3.6.1.4.1.14519.5.2.1.6279.6001.501205984478455794251416553685    1\n",
       "1.3.6.1.4.1.14519.5.2.1.6279.6001.603166427542096384265514998412    1\n",
       "1.3.6.1.4.1.14519.5.2.1.6279.6001.201890795870532056891161597218    1\n",
       "1.3.6.1.4.1.14519.5.2.1.6279.6001.323646598927268841433920119813    1\n",
       "1.3.6.1.4.1.14519.5.2.1.6279.6001.149041668385192796520281592139    1\n",
       "Name: Series UID, Length: 1018, dtype: int64"
      ]
     },
     "execution_count": 57,
     "metadata": {},
     "output_type": "execute_result"
    }
   ],
   "source": [
    "df_case[\"Series UID\"].value_counts()"
   ]
  },
  {
   "cell_type": "code",
   "execution_count": 58,
   "metadata": {},
   "outputs": [
    {
     "data": {
      "text/plain": [
       "1.3.6.1.4.1.14519.5.2.1.6279.6001.208001565962486054565606721023    1\n",
       "1.3.6.1.4.1.14519.5.2.1.6279.6001.271910441918529291689264844963    1\n",
       "1.3.6.1.4.1.14519.5.2.1.6279.6001.119282761272977253557254714163    1\n",
       "1.3.6.1.4.1.14519.5.2.1.6279.6001.247813601128055334769770235073    1\n",
       "1.3.6.1.4.1.14519.5.2.1.6279.6001.223586178787100112140685204730    1\n",
       "                                                                   ..\n",
       "1.3.6.1.4.1.14519.5.2.1.6279.6001.165584568388616938096482975079    1\n",
       "1.3.6.1.4.1.14519.5.2.1.6279.6001.475498514082515864100304794963    1\n",
       "1.3.6.1.4.1.14519.5.2.1.6279.6001.247360966390848191713625967090    1\n",
       "1.3.6.1.4.1.14519.5.2.1.6279.6001.327833349640691088534060439127    1\n",
       "1.3.6.1.4.1.14519.5.2.1.6279.6001.106941897938005462856300775001    1\n",
       "Name: Study UID, Length: 1018, dtype: int64"
      ]
     },
     "execution_count": 58,
     "metadata": {},
     "output_type": "execute_result"
    }
   ],
   "source": [
    "df_case[\"Study UID\"].value_counts()"
   ]
  },
  {
   "cell_type": "markdown",
   "metadata": {},
   "source": [
    "## File Location format : windows to linux"
   ]
  },
  {
   "cell_type": "code",
   "execution_count": 131,
   "metadata": {},
   "outputs": [
    {
     "name": "stderr",
     "output_type": "stream",
     "text": [
      "/usr/local/lib/python3.6/dist-packages/ipykernel_launcher.py:2: SettingWithCopyWarning: \n",
      "A value is trying to be set on a copy of a slice from a DataFrame\n",
      "\n",
      "See the caveats in the documentation: https://pandas.pydata.org/pandas-docs/stable/user_guide/indexing.html#returning-a-view-versus-a-copy\n",
      "  \n"
     ]
    }
   ],
   "source": [
    "for i, f in enumerate(df_case[\"File Location\"]):\n",
    "    df_case[\"File Location\"][i] = f.replace(\"\\\\\", \"/\")"
   ]
  },
  {
   "cell_type": "markdown",
   "metadata": {},
   "source": [
    "## 1018 cases, 1010 subjects in df_case"
   ]
  },
  {
   "cell_type": "code",
   "execution_count": 18,
   "metadata": {},
   "outputs": [
    {
     "data": {
      "text/html": [
       "<div>\n",
       "<style scoped>\n",
       "    .dataframe tbody tr th:only-of-type {\n",
       "        vertical-align: middle;\n",
       "    }\n",
       "\n",
       "    .dataframe tbody tr th {\n",
       "        vertical-align: top;\n",
       "    }\n",
       "\n",
       "    .dataframe thead th {\n",
       "        text-align: right;\n",
       "    }\n",
       "</style>\n",
       "<table border=\"1\" class=\"dataframe\">\n",
       "  <thead>\n",
       "    <tr style=\"text-align: right;\">\n",
       "      <th></th>\n",
       "      <th>Series UID</th>\n",
       "      <th>Collection</th>\n",
       "      <th>3rd Party Analysis</th>\n",
       "      <th>Data Description URI</th>\n",
       "      <th>Subject ID</th>\n",
       "      <th>Study UID</th>\n",
       "      <th>Study Description</th>\n",
       "      <th>Study Date</th>\n",
       "      <th>Series Description</th>\n",
       "      <th>Manufacturer</th>\n",
       "      <th>Modality</th>\n",
       "      <th>SOP Class Name</th>\n",
       "      <th>SOP Class UID</th>\n",
       "      <th>Number of Images</th>\n",
       "      <th>File Size</th>\n",
       "      <th>File Location</th>\n",
       "      <th>Download Timestamp</th>\n",
       "    </tr>\n",
       "  </thead>\n",
       "  <tbody>\n",
       "    <tr>\n",
       "      <td>1013</td>\n",
       "      <td>1.3.6.1.4.1.14519.5.2.1.6279.6001.397062004302...</td>\n",
       "      <td>LIDC-IDRI</td>\n",
       "      <td>NaN</td>\n",
       "      <td>https://doi.org/10.7937/K9/TCIA.2015.LO9QL9SX</td>\n",
       "      <td>LIDC-IDRI-1006</td>\n",
       "      <td>1.3.6.1.4.1.14519.5.2.1.6279.6001.684533679602...</td>\n",
       "      <td>NaN</td>\n",
       "      <td>01-01-2000</td>\n",
       "      <td>NaN</td>\n",
       "      <td>Philips</td>\n",
       "      <td>CT</td>\n",
       "      <td>CT Image Storage</td>\n",
       "      <td>1.2.840.10008.5.1.4.1.1.2</td>\n",
       "      <td>325</td>\n",
       "      <td>170.99 MB</td>\n",
       "      <td>.\\LIDC-IDRI\\LIDC-IDRI-1006\\01-01-2000-NA-NA-49...</td>\n",
       "      <td>2022-01-08T08:23:58.596</td>\n",
       "    </tr>\n",
       "    <tr>\n",
       "      <td>1014</td>\n",
       "      <td>1.3.6.1.4.1.14519.5.2.1.6279.6001.153646219551...</td>\n",
       "      <td>LIDC-IDRI</td>\n",
       "      <td>NaN</td>\n",
       "      <td>https://doi.org/10.7937/K9/TCIA.2015.LO9QL9SX</td>\n",
       "      <td>LIDC-IDRI-1012</td>\n",
       "      <td>1.3.6.1.4.1.14519.5.2.1.6279.6001.676549258486...</td>\n",
       "      <td>CHEST</td>\n",
       "      <td>01-01-2000</td>\n",
       "      <td>NaN</td>\n",
       "      <td>GE MEDICAL SYSTEMS</td>\n",
       "      <td>CT</td>\n",
       "      <td>CT Image Storage</td>\n",
       "      <td>1.2.840.10008.5.1.4.1.1.2</td>\n",
       "      <td>166</td>\n",
       "      <td>87.43 MB</td>\n",
       "      <td>.\\LIDC-IDRI\\LIDC-IDRI-1012\\01-01-2000-1-CHEST-...</td>\n",
       "      <td>2022-01-08T08:24:16.925</td>\n",
       "    </tr>\n",
       "    <tr>\n",
       "      <td>1015</td>\n",
       "      <td>1.3.6.1.4.1.14519.5.2.1.6279.6001.969607480572...</td>\n",
       "      <td>LIDC-IDRI</td>\n",
       "      <td>NaN</td>\n",
       "      <td>https://doi.org/10.7937/K9/TCIA.2015.LO9QL9SX</td>\n",
       "      <td>LIDC-IDRI-0474</td>\n",
       "      <td>1.3.6.1.4.1.14519.5.2.1.6279.6001.220250766483...</td>\n",
       "      <td>NaN</td>\n",
       "      <td>01-01-2000</td>\n",
       "      <td>NaN</td>\n",
       "      <td>SIEMENS</td>\n",
       "      <td>CT</td>\n",
       "      <td>CT Image Storage</td>\n",
       "      <td>1.2.840.10008.5.1.4.1.1.2</td>\n",
       "      <td>177</td>\n",
       "      <td>93.35 MB</td>\n",
       "      <td>.\\LIDC-IDRI\\LIDC-IDRI-0474\\01-01-2000-NA-NA-72...</td>\n",
       "      <td>2022-01-08T11:01:35.144</td>\n",
       "    </tr>\n",
       "    <tr>\n",
       "      <td>1016</td>\n",
       "      <td>1.3.6.1.4.1.14519.5.2.1.6279.6001.826829446346...</td>\n",
       "      <td>LIDC-IDRI</td>\n",
       "      <td>NaN</td>\n",
       "      <td>https://doi.org/10.7937/K9/TCIA.2015.LO9QL9SX</td>\n",
       "      <td>LIDC-IDRI-0195</td>\n",
       "      <td>1.3.6.1.4.1.14519.5.2.1.6279.6001.106941897938...</td>\n",
       "      <td>CT THORAX WCONTRAST</td>\n",
       "      <td>01-01-2000</td>\n",
       "      <td>NaN</td>\n",
       "      <td>GE MEDICAL SYSTEMS</td>\n",
       "      <td>CT</td>\n",
       "      <td>CT Image Storage</td>\n",
       "      <td>1.2.840.10008.5.1.4.1.1.2</td>\n",
       "      <td>133</td>\n",
       "      <td>70.60 MB</td>\n",
       "      <td>.\\LIDC-IDRI\\LIDC-IDRI-0195\\01-01-2000-NA-CT TH...</td>\n",
       "      <td>2022-01-08T11:02:24.848</td>\n",
       "    </tr>\n",
       "    <tr>\n",
       "      <td>1017</td>\n",
       "      <td>1.3.6.1.4.1.14519.5.2.1.6279.6001.272042302501...</td>\n",
       "      <td>LIDC-IDRI</td>\n",
       "      <td>NaN</td>\n",
       "      <td>https://doi.org/10.7937/K9/TCIA.2015.LO9QL9SX</td>\n",
       "      <td>LIDC-IDRI-0352</td>\n",
       "      <td>1.3.6.1.4.1.14519.5.2.1.6279.6001.461502489756...</td>\n",
       "      <td>NaN</td>\n",
       "      <td>01-01-2000</td>\n",
       "      <td>NaN</td>\n",
       "      <td>Philips</td>\n",
       "      <td>CT</td>\n",
       "      <td>CT Image Storage</td>\n",
       "      <td>1.2.840.10008.5.1.4.1.1.2</td>\n",
       "      <td>280</td>\n",
       "      <td>147.35 MB</td>\n",
       "      <td>.\\LIDC-IDRI\\LIDC-IDRI-0352\\01-01-2000-NA-NA-61...</td>\n",
       "      <td>2022-01-08T11:02:27.181</td>\n",
       "    </tr>\n",
       "  </tbody>\n",
       "</table>\n",
       "</div>"
      ],
      "text/plain": [
       "                                             Series UID Collection  \\\n",
       "1013  1.3.6.1.4.1.14519.5.2.1.6279.6001.397062004302...  LIDC-IDRI   \n",
       "1014  1.3.6.1.4.1.14519.5.2.1.6279.6001.153646219551...  LIDC-IDRI   \n",
       "1015  1.3.6.1.4.1.14519.5.2.1.6279.6001.969607480572...  LIDC-IDRI   \n",
       "1016  1.3.6.1.4.1.14519.5.2.1.6279.6001.826829446346...  LIDC-IDRI   \n",
       "1017  1.3.6.1.4.1.14519.5.2.1.6279.6001.272042302501...  LIDC-IDRI   \n",
       "\n",
       "      3rd Party Analysis                           Data Description URI  \\\n",
       "1013                 NaN  https://doi.org/10.7937/K9/TCIA.2015.LO9QL9SX   \n",
       "1014                 NaN  https://doi.org/10.7937/K9/TCIA.2015.LO9QL9SX   \n",
       "1015                 NaN  https://doi.org/10.7937/K9/TCIA.2015.LO9QL9SX   \n",
       "1016                 NaN  https://doi.org/10.7937/K9/TCIA.2015.LO9QL9SX   \n",
       "1017                 NaN  https://doi.org/10.7937/K9/TCIA.2015.LO9QL9SX   \n",
       "\n",
       "          Subject ID                                          Study UID  \\\n",
       "1013  LIDC-IDRI-1006  1.3.6.1.4.1.14519.5.2.1.6279.6001.684533679602...   \n",
       "1014  LIDC-IDRI-1012  1.3.6.1.4.1.14519.5.2.1.6279.6001.676549258486...   \n",
       "1015  LIDC-IDRI-0474  1.3.6.1.4.1.14519.5.2.1.6279.6001.220250766483...   \n",
       "1016  LIDC-IDRI-0195  1.3.6.1.4.1.14519.5.2.1.6279.6001.106941897938...   \n",
       "1017  LIDC-IDRI-0352  1.3.6.1.4.1.14519.5.2.1.6279.6001.461502489756...   \n",
       "\n",
       "        Study Description  Study Date Series Description        Manufacturer  \\\n",
       "1013                  NaN  01-01-2000                NaN             Philips   \n",
       "1014                CHEST  01-01-2000                NaN  GE MEDICAL SYSTEMS   \n",
       "1015                  NaN  01-01-2000                NaN             SIEMENS   \n",
       "1016  CT THORAX WCONTRAST  01-01-2000                NaN  GE MEDICAL SYSTEMS   \n",
       "1017                  NaN  01-01-2000                NaN             Philips   \n",
       "\n",
       "     Modality    SOP Class Name              SOP Class UID  Number of Images  \\\n",
       "1013       CT  CT Image Storage  1.2.840.10008.5.1.4.1.1.2               325   \n",
       "1014       CT  CT Image Storage  1.2.840.10008.5.1.4.1.1.2               166   \n",
       "1015       CT  CT Image Storage  1.2.840.10008.5.1.4.1.1.2               177   \n",
       "1016       CT  CT Image Storage  1.2.840.10008.5.1.4.1.1.2               133   \n",
       "1017       CT  CT Image Storage  1.2.840.10008.5.1.4.1.1.2               280   \n",
       "\n",
       "      File Size                                      File Location  \\\n",
       "1013  170.99 MB  .\\LIDC-IDRI\\LIDC-IDRI-1006\\01-01-2000-NA-NA-49...   \n",
       "1014   87.43 MB  .\\LIDC-IDRI\\LIDC-IDRI-1012\\01-01-2000-1-CHEST-...   \n",
       "1015   93.35 MB  .\\LIDC-IDRI\\LIDC-IDRI-0474\\01-01-2000-NA-NA-72...   \n",
       "1016   70.60 MB  .\\LIDC-IDRI\\LIDC-IDRI-0195\\01-01-2000-NA-CT TH...   \n",
       "1017  147.35 MB  .\\LIDC-IDRI\\LIDC-IDRI-0352\\01-01-2000-NA-NA-61...   \n",
       "\n",
       "           Download Timestamp  \n",
       "1013  2022-01-08T08:23:58.596  \n",
       "1014  2022-01-08T08:24:16.925  \n",
       "1015  2022-01-08T11:01:35.144  \n",
       "1016  2022-01-08T11:02:24.848  \n",
       "1017  2022-01-08T11:02:27.181  "
      ]
     },
     "execution_count": 18,
     "metadata": {},
     "output_type": "execute_result"
    }
   ],
   "source": [
    "df_case.to_csv(\"../preprocess/df_cases.csv\", index=False)\n",
    "df_case[-5:]"
   ]
  },
  {
   "cell_type": "markdown",
   "metadata": {},
   "source": [
    "# 2) XML cases"
   ]
  },
  {
   "cell_type": "code",
   "execution_count": 38,
   "metadata": {},
   "outputs": [],
   "source": [
    "import xml.etree.ElementTree as ET"
   ]
  },
  {
   "cell_type": "markdown",
   "metadata": {},
   "source": [
    "## each XML file has 2 prefix, use 'try except' to resolve"
   ]
  },
  {
   "cell_type": "code",
   "execution_count": 117,
   "metadata": {},
   "outputs": [],
   "source": [
    "def parse_suid(path):\n",
    "    tree = ET.parse(path)\n",
    "    root = tree.getroot()\n",
    "    header = root.getchildren()[0]\n",
    "    prefix = \"{http://www.nih.gov}\"\n",
    "    \n",
    "    try:\n",
    "        suid_list = header.findall(\"{http://www.nih.gov}SeriesInstanceUid\")\n",
    "        suid = suid_list[0].text\n",
    "    except:\n",
    "        suid_list = header.findall(\"{http://www.nih.gov/idri}SeriesInstanceUID\")\n",
    "        suid = suid_list[0].text\n",
    "    \n",
    "    return suid"
   ]
  },
  {
   "cell_type": "code",
   "execution_count": 36,
   "metadata": {},
   "outputs": [],
   "source": [
    "xml_lst = sorted(glob(\"../tcia-lidc-xml/*/*xml\"))"
   ]
  },
  {
   "cell_type": "code",
   "execution_count": 111,
   "metadata": {},
   "outputs": [],
   "source": [
    "xml_dict = {\"path\": [], \"Series UID\": []}\n",
    "\n",
    "for x in xml_lst:\n",
    "    xml_dict[\"path\"].append(x)\n",
    "    xml_dict[\"Series UID\"].append(parse_suid(x))\n",
    "\n",
    "df_xml = pd.DataFrame(xml_dict)"
   ]
  },
  {
   "cell_type": "code",
   "execution_count": 118,
   "metadata": {},
   "outputs": [
    {
     "data": {
      "text/html": [
       "<div>\n",
       "<style scoped>\n",
       "    .dataframe tbody tr th:only-of-type {\n",
       "        vertical-align: middle;\n",
       "    }\n",
       "\n",
       "    .dataframe tbody tr th {\n",
       "        vertical-align: top;\n",
       "    }\n",
       "\n",
       "    .dataframe thead th {\n",
       "        text-align: right;\n",
       "    }\n",
       "</style>\n",
       "<table border=\"1\" class=\"dataframe\">\n",
       "  <thead>\n",
       "    <tr style=\"text-align: right;\">\n",
       "      <th></th>\n",
       "      <th>path</th>\n",
       "      <th>Series UID</th>\n",
       "    </tr>\n",
       "  </thead>\n",
       "  <tbody>\n",
       "    <tr>\n",
       "      <th>0</th>\n",
       "      <td>tcia-lidc-xml/157/158.xml</td>\n",
       "      <td>1.3.6.1.4.1.14519.5.2.1.6279.6001.303494235102...</td>\n",
       "    </tr>\n",
       "    <tr>\n",
       "      <th>1</th>\n",
       "      <td>tcia-lidc-xml/157/159.xml</td>\n",
       "      <td>1.3.6.1.4.1.14519.5.2.1.6279.6001.131939324905...</td>\n",
       "    </tr>\n",
       "    <tr>\n",
       "      <th>2</th>\n",
       "      <td>tcia-lidc-xml/157/160.xml</td>\n",
       "      <td>1.3.6.1.4.1.14519.5.2.1.6279.6001.213233719488...</td>\n",
       "    </tr>\n",
       "    <tr>\n",
       "      <th>3</th>\n",
       "      <td>tcia-lidc-xml/157/161.xml</td>\n",
       "      <td>1.3.6.1.4.1.14519.5.2.1.6279.6001.340202188094...</td>\n",
       "    </tr>\n",
       "    <tr>\n",
       "      <th>4</th>\n",
       "      <td>tcia-lidc-xml/157/162.xml</td>\n",
       "      <td>1.3.6.1.4.1.14519.5.2.1.6279.6001.311102747717...</td>\n",
       "    </tr>\n",
       "    <tr>\n",
       "      <th>...</th>\n",
       "      <td>...</td>\n",
       "      <td>...</td>\n",
       "    </tr>\n",
       "    <tr>\n",
       "      <th>1313</th>\n",
       "      <td>tcia-lidc-xml/189/170.xml</td>\n",
       "      <td>1.3.6.1.4.1.14519.5.2.1.6279.6001.175773779529...</td>\n",
       "    </tr>\n",
       "    <tr>\n",
       "      <th>1314</th>\n",
       "      <td>tcia-lidc-xml/189/171.xml</td>\n",
       "      <td>1.3.6.1.4.1.14519.5.2.1.6279.6001.293593766328...</td>\n",
       "    </tr>\n",
       "    <tr>\n",
       "      <th>1315</th>\n",
       "      <td>tcia-lidc-xml/189/172.xml</td>\n",
       "      <td>1.3.6.1.4.1.14519.5.2.1.6279.6001.133132722052...</td>\n",
       "    </tr>\n",
       "    <tr>\n",
       "      <th>1316</th>\n",
       "      <td>tcia-lidc-xml/189/173.xml</td>\n",
       "      <td>1.3.6.1.4.1.14519.5.2.1.6279.6001.229343399861...</td>\n",
       "    </tr>\n",
       "    <tr>\n",
       "      <th>1317</th>\n",
       "      <td>tcia-lidc-xml/189/174.xml</td>\n",
       "      <td>1.3.6.1.4.1.14519.5.2.1.6279.6001.229343399861...</td>\n",
       "    </tr>\n",
       "  </tbody>\n",
       "</table>\n",
       "<p>1318 rows × 2 columns</p>\n",
       "</div>"
      ],
      "text/plain": [
       "                           path  \\\n",
       "0     tcia-lidc-xml/157/158.xml   \n",
       "1     tcia-lidc-xml/157/159.xml   \n",
       "2     tcia-lidc-xml/157/160.xml   \n",
       "3     tcia-lidc-xml/157/161.xml   \n",
       "4     tcia-lidc-xml/157/162.xml   \n",
       "...                         ...   \n",
       "1313  tcia-lidc-xml/189/170.xml   \n",
       "1314  tcia-lidc-xml/189/171.xml   \n",
       "1315  tcia-lidc-xml/189/172.xml   \n",
       "1316  tcia-lidc-xml/189/173.xml   \n",
       "1317  tcia-lidc-xml/189/174.xml   \n",
       "\n",
       "                                             Series UID  \n",
       "0     1.3.6.1.4.1.14519.5.2.1.6279.6001.303494235102...  \n",
       "1     1.3.6.1.4.1.14519.5.2.1.6279.6001.131939324905...  \n",
       "2     1.3.6.1.4.1.14519.5.2.1.6279.6001.213233719488...  \n",
       "3     1.3.6.1.4.1.14519.5.2.1.6279.6001.340202188094...  \n",
       "4     1.3.6.1.4.1.14519.5.2.1.6279.6001.311102747717...  \n",
       "...                                                 ...  \n",
       "1313  1.3.6.1.4.1.14519.5.2.1.6279.6001.175773779529...  \n",
       "1314  1.3.6.1.4.1.14519.5.2.1.6279.6001.293593766328...  \n",
       "1315  1.3.6.1.4.1.14519.5.2.1.6279.6001.133132722052...  \n",
       "1316  1.3.6.1.4.1.14519.5.2.1.6279.6001.229343399861...  \n",
       "1317  1.3.6.1.4.1.14519.5.2.1.6279.6001.229343399861...  \n",
       "\n",
       "[1318 rows x 2 columns]"
      ]
     },
     "execution_count": 118,
     "metadata": {},
     "output_type": "execute_result"
    }
   ],
   "source": [
    "df_xml"
   ]
  },
  {
   "cell_type": "code",
   "execution_count": 121,
   "metadata": {},
   "outputs": [],
   "source": [
    "df_xml = df_xml[df_xml[\"Series UID\"].isin(df_case[\"Series UID\"])].reset_index(drop=True)"
   ]
  },
  {
   "cell_type": "code",
   "execution_count": 126,
   "metadata": {},
   "outputs": [
    {
     "data": {
      "text/plain": [
       "1.3.6.1.4.1.14519.5.2.1.6279.6001.192256506776434538421891524301    6\n",
       "1.3.6.1.4.1.14519.5.2.1.6279.6001.153646219551578201092527860224    5\n",
       "1.3.6.1.4.1.14519.5.2.1.6279.6001.272123398257168239653655006815    4\n",
       "1.3.6.1.4.1.14519.5.2.1.6279.6001.855232435861303786204450738044    3\n",
       "1.3.6.1.4.1.14519.5.2.1.6279.6001.550599855064600241623943717588    3\n",
       "                                                                   ..\n",
       "1.3.6.1.4.1.14519.5.2.1.6279.6001.257840703452266097926250569223    1\n",
       "1.3.6.1.4.1.14519.5.2.1.6279.6001.191266041369462391833537519639    1\n",
       "1.3.6.1.4.1.14519.5.2.1.6279.6001.281489753704424911132261151767    1\n",
       "1.3.6.1.4.1.14519.5.2.1.6279.6001.151764021165118974848436095034    1\n",
       "1.3.6.1.4.1.14519.5.2.1.6279.6001.149041668385192796520281592139    1\n",
       "Name: Series UID, Length: 1018, dtype: int64"
      ]
     },
     "execution_count": 126,
     "metadata": {},
     "output_type": "execute_result"
    }
   ],
   "source": [
    "df_xml[\"Series UID\"].value_counts()"
   ]
  },
  {
   "cell_type": "markdown",
   "metadata": {},
   "source": [
    "## Matching XML file's SUID and df_cases -> 1018 cases"
   ]
  },
  {
   "cell_type": "code",
   "execution_count": 136,
   "metadata": {},
   "outputs": [
    {
     "data": {
      "text/html": [
       "<div>\n",
       "<style scoped>\n",
       "    .dataframe tbody tr th:only-of-type {\n",
       "        vertical-align: middle;\n",
       "    }\n",
       "\n",
       "    .dataframe tbody tr th {\n",
       "        vertical-align: top;\n",
       "    }\n",
       "\n",
       "    .dataframe thead th {\n",
       "        text-align: right;\n",
       "    }\n",
       "</style>\n",
       "<table border=\"1\" class=\"dataframe\">\n",
       "  <thead>\n",
       "    <tr style=\"text-align: right;\">\n",
       "      <th></th>\n",
       "      <th>path</th>\n",
       "      <th>Series UID</th>\n",
       "    </tr>\n",
       "  </thead>\n",
       "  <tbody>\n",
       "    <tr>\n",
       "      <th>0</th>\n",
       "      <td>tcia-lidc-xml/157/158.xml</td>\n",
       "      <td>1.3.6.1.4.1.14519.5.2.1.6279.6001.303494235102...</td>\n",
       "    </tr>\n",
       "    <tr>\n",
       "      <th>1</th>\n",
       "      <td>tcia-lidc-xml/157/159.xml</td>\n",
       "      <td>1.3.6.1.4.1.14519.5.2.1.6279.6001.131939324905...</td>\n",
       "    </tr>\n",
       "    <tr>\n",
       "      <th>2</th>\n",
       "      <td>tcia-lidc-xml/157/160.xml</td>\n",
       "      <td>1.3.6.1.4.1.14519.5.2.1.6279.6001.213233719488...</td>\n",
       "    </tr>\n",
       "    <tr>\n",
       "      <th>3</th>\n",
       "      <td>tcia-lidc-xml/157/161.xml</td>\n",
       "      <td>1.3.6.1.4.1.14519.5.2.1.6279.6001.340202188094...</td>\n",
       "    </tr>\n",
       "    <tr>\n",
       "      <th>4</th>\n",
       "      <td>tcia-lidc-xml/157/162.xml</td>\n",
       "      <td>1.3.6.1.4.1.14519.5.2.1.6279.6001.311102747717...</td>\n",
       "    </tr>\n",
       "    <tr>\n",
       "      <th>...</th>\n",
       "      <td>...</td>\n",
       "      <td>...</td>\n",
       "    </tr>\n",
       "    <tr>\n",
       "      <th>1030</th>\n",
       "      <td>tcia-lidc-xml/189/170.xml</td>\n",
       "      <td>1.3.6.1.4.1.14519.5.2.1.6279.6001.175773779529...</td>\n",
       "    </tr>\n",
       "    <tr>\n",
       "      <th>1031</th>\n",
       "      <td>tcia-lidc-xml/189/171.xml</td>\n",
       "      <td>1.3.6.1.4.1.14519.5.2.1.6279.6001.293593766328...</td>\n",
       "    </tr>\n",
       "    <tr>\n",
       "      <th>1032</th>\n",
       "      <td>tcia-lidc-xml/189/172.xml</td>\n",
       "      <td>1.3.6.1.4.1.14519.5.2.1.6279.6001.133132722052...</td>\n",
       "    </tr>\n",
       "    <tr>\n",
       "      <th>1033</th>\n",
       "      <td>tcia-lidc-xml/189/173.xml</td>\n",
       "      <td>1.3.6.1.4.1.14519.5.2.1.6279.6001.229343399861...</td>\n",
       "    </tr>\n",
       "    <tr>\n",
       "      <th>1034</th>\n",
       "      <td>tcia-lidc-xml/189/174.xml</td>\n",
       "      <td>1.3.6.1.4.1.14519.5.2.1.6279.6001.229343399861...</td>\n",
       "    </tr>\n",
       "  </tbody>\n",
       "</table>\n",
       "<p>1035 rows × 2 columns</p>\n",
       "</div>"
      ],
      "text/plain": [
       "                           path  \\\n",
       "0     tcia-lidc-xml/157/158.xml   \n",
       "1     tcia-lidc-xml/157/159.xml   \n",
       "2     tcia-lidc-xml/157/160.xml   \n",
       "3     tcia-lidc-xml/157/161.xml   \n",
       "4     tcia-lidc-xml/157/162.xml   \n",
       "...                         ...   \n",
       "1030  tcia-lidc-xml/189/170.xml   \n",
       "1031  tcia-lidc-xml/189/171.xml   \n",
       "1032  tcia-lidc-xml/189/172.xml   \n",
       "1033  tcia-lidc-xml/189/173.xml   \n",
       "1034  tcia-lidc-xml/189/174.xml   \n",
       "\n",
       "                                             Series UID  \n",
       "0     1.3.6.1.4.1.14519.5.2.1.6279.6001.303494235102...  \n",
       "1     1.3.6.1.4.1.14519.5.2.1.6279.6001.131939324905...  \n",
       "2     1.3.6.1.4.1.14519.5.2.1.6279.6001.213233719488...  \n",
       "3     1.3.6.1.4.1.14519.5.2.1.6279.6001.340202188094...  \n",
       "4     1.3.6.1.4.1.14519.5.2.1.6279.6001.311102747717...  \n",
       "...                                                 ...  \n",
       "1030  1.3.6.1.4.1.14519.5.2.1.6279.6001.175773779529...  \n",
       "1031  1.3.6.1.4.1.14519.5.2.1.6279.6001.293593766328...  \n",
       "1032  1.3.6.1.4.1.14519.5.2.1.6279.6001.133132722052...  \n",
       "1033  1.3.6.1.4.1.14519.5.2.1.6279.6001.229343399861...  \n",
       "1034  1.3.6.1.4.1.14519.5.2.1.6279.6001.229343399861...  \n",
       "\n",
       "[1035 rows x 2 columns]"
      ]
     },
     "execution_count": 136,
     "metadata": {},
     "output_type": "execute_result"
    }
   ],
   "source": [
    "df_xml"
   ]
  },
  {
   "cell_type": "markdown",
   "metadata": {},
   "source": [
    "## Add file location to be used as matching key"
   ]
  },
  {
   "cell_type": "code",
   "execution_count": 142,
   "metadata": {},
   "outputs": [],
   "source": [
    "ct_location_lst = []\n",
    "for i, row in df_xml.iterrows():\n",
    "    ct_location = df_case[df_case[\"Series UID\"]==row[\"Series UID\"]][\"File Location\"]\n",
    "    ct_location_lst.append(ct_location.values[0])"
   ]
  },
  {
   "cell_type": "code",
   "execution_count": 143,
   "metadata": {},
   "outputs": [],
   "source": [
    "df_xml[\"CT Location\"] = ct_location_lst"
   ]
  },
  {
   "cell_type": "markdown",
   "metadata": {},
   "source": [
    "## 하나의 CT slice에 여러 개의 xml 매칭되는 경우 : 똑같은 내용 파일이 여러 개 있는 것"
   ]
  },
  {
   "cell_type": "code",
   "execution_count": 154,
   "metadata": {},
   "outputs": [],
   "source": [
    "import xml.etree.ElementTree as ET\n",
    "\n",
    "def parseXML(path):\n",
    "    '''\n",
    "    parse xml file\n",
    "\n",
    "    args:\n",
    "    xml file path\n",
    "\n",
    "    output:\n",
    "    nodule list\n",
    "    [{nodule_id, roi:[{z, sop_uid, xy:[[x1,y1],[x2,y2],...]}]}]\n",
    "    '''\n",
    "    prefix = \"{http://www.nih.gov}\"\n",
    "    tree = ET.parse(path)\n",
    "    root = tree.getroot()\n",
    "    readingSession_list = root.findall(prefix + \"readingSession\") \n",
    "    nodules = []\n",
    "\n",
    "    for session in readingSession_list:\n",
    "        #print(session)\n",
    "        unblinded_list = session.findall(prefix + \"unblindedReadNodule\")\n",
    "        #print(unblinded_list)\n",
    "        for unblinded in unblinded_list:\n",
    "            nodule_id = unblinded.find(prefix + \"noduleID\").text\n",
    "            edgeMap_num = len(unblinded.findall(prefix+\"roi/\"+prefix+\"edgeMap\"))\n",
    "            if edgeMap_num > 1:\n",
    "            # it's segmentation label\n",
    "                nodule_info = {}\n",
    "                nodule_info['nodule_id'] = nodule_id\n",
    "                nodule_info['roi'] = []\n",
    "                roi_list = unblinded.findall(prefix + \"roi\")\n",
    "                for roi in roi_list:\n",
    "                    roi_info = {}\n",
    "                    roi_info['z'] = float(roi.find(prefix + \"imageZposition\").text)\n",
    "                    roi_info['sop_uid'] = roi.find(prefix + \"imageSOP_UID\").text\n",
    "                    roi_info['xy'] = []\n",
    "                    edgeMap_list = roi.findall(prefix + \"edgeMap\")\n",
    "                    for edgeMap in edgeMap_list:\n",
    "                        x = float(edgeMap.find(prefix + \"xCoord\").text)\n",
    "                        y = float(edgeMap.find(prefix + \"yCoord\").text)\n",
    "                        xy = [x, y]\n",
    "                        roi_info['xy'].append(xy)\n",
    "                    nodule_info['roi'].append(roi_info)\n",
    "                nodules.append(nodule_info)\n",
    "    return nodules"
   ]
  },
  {
   "cell_type": "code",
   "execution_count": 150,
   "metadata": {},
   "outputs": [
    {
     "data": {
      "text/plain": [
       "1.3.6.1.4.1.14519.5.2.1.6279.6001.192256506776434538421891524301    6\n",
       "1.3.6.1.4.1.14519.5.2.1.6279.6001.153646219551578201092527860224    5\n",
       "1.3.6.1.4.1.14519.5.2.1.6279.6001.272123398257168239653655006815    4\n",
       "1.3.6.1.4.1.14519.5.2.1.6279.6001.855232435861303786204450738044    3\n",
       "1.3.6.1.4.1.14519.5.2.1.6279.6001.550599855064600241623943717588    3\n",
       "1.3.6.1.4.1.14519.5.2.1.6279.6001.229343399861261429237689489892    2\n",
       "1.3.6.1.4.1.14519.5.2.1.6279.6001.897279226481700053115245043064    1\n",
       "Name: Series UID, dtype: int64"
      ]
     },
     "execution_count": 150,
     "metadata": {},
     "output_type": "execute_result"
    }
   ],
   "source": [
    "df_xml[\"Series UID\"].value_counts()[:7]"
   ]
  },
  {
   "cell_type": "code",
   "execution_count": 151,
   "metadata": {},
   "outputs": [
    {
     "data": {
      "text/html": [
       "<div>\n",
       "<style scoped>\n",
       "    .dataframe tbody tr th:only-of-type {\n",
       "        vertical-align: middle;\n",
       "    }\n",
       "\n",
       "    .dataframe tbody tr th {\n",
       "        vertical-align: top;\n",
       "    }\n",
       "\n",
       "    .dataframe thead th {\n",
       "        text-align: right;\n",
       "    }\n",
       "</style>\n",
       "<table border=\"1\" class=\"dataframe\">\n",
       "  <thead>\n",
       "    <tr style=\"text-align: right;\">\n",
       "      <th></th>\n",
       "      <th>path</th>\n",
       "      <th>Series UID</th>\n",
       "      <th>CT Location</th>\n",
       "    </tr>\n",
       "  </thead>\n",
       "  <tbody>\n",
       "    <tr>\n",
       "      <th>888</th>\n",
       "      <td>tcia-lidc-xml/189/028.xml</td>\n",
       "      <td>1.3.6.1.4.1.14519.5.2.1.6279.6001.192256506776...</td>\n",
       "      <td>./LIDC-IDRI/LIDC-IDRI-0777/01-01-2000-NA-NA-23...</td>\n",
       "    </tr>\n",
       "    <tr>\n",
       "      <th>889</th>\n",
       "      <td>tcia-lidc-xml/189/029.xml</td>\n",
       "      <td>1.3.6.1.4.1.14519.5.2.1.6279.6001.192256506776...</td>\n",
       "      <td>./LIDC-IDRI/LIDC-IDRI-0777/01-01-2000-NA-NA-23...</td>\n",
       "    </tr>\n",
       "    <tr>\n",
       "      <th>890</th>\n",
       "      <td>tcia-lidc-xml/189/030.xml</td>\n",
       "      <td>1.3.6.1.4.1.14519.5.2.1.6279.6001.192256506776...</td>\n",
       "      <td>./LIDC-IDRI/LIDC-IDRI-0777/01-01-2000-NA-NA-23...</td>\n",
       "    </tr>\n",
       "    <tr>\n",
       "      <th>891</th>\n",
       "      <td>tcia-lidc-xml/189/031.xml</td>\n",
       "      <td>1.3.6.1.4.1.14519.5.2.1.6279.6001.192256506776...</td>\n",
       "      <td>./LIDC-IDRI/LIDC-IDRI-0777/01-01-2000-NA-NA-23...</td>\n",
       "    </tr>\n",
       "    <tr>\n",
       "      <th>892</th>\n",
       "      <td>tcia-lidc-xml/189/032.xml</td>\n",
       "      <td>1.3.6.1.4.1.14519.5.2.1.6279.6001.192256506776...</td>\n",
       "      <td>./LIDC-IDRI/LIDC-IDRI-0777/01-01-2000-NA-NA-23...</td>\n",
       "    </tr>\n",
       "    <tr>\n",
       "      <th>893</th>\n",
       "      <td>tcia-lidc-xml/189/033.xml</td>\n",
       "      <td>1.3.6.1.4.1.14519.5.2.1.6279.6001.192256506776...</td>\n",
       "      <td>./LIDC-IDRI/LIDC-IDRI-0777/01-01-2000-NA-NA-23...</td>\n",
       "    </tr>\n",
       "  </tbody>\n",
       "</table>\n",
       "</div>"
      ],
      "text/plain": [
       "                          path  \\\n",
       "888  tcia-lidc-xml/189/028.xml   \n",
       "889  tcia-lidc-xml/189/029.xml   \n",
       "890  tcia-lidc-xml/189/030.xml   \n",
       "891  tcia-lidc-xml/189/031.xml   \n",
       "892  tcia-lidc-xml/189/032.xml   \n",
       "893  tcia-lidc-xml/189/033.xml   \n",
       "\n",
       "                                            Series UID  \\\n",
       "888  1.3.6.1.4.1.14519.5.2.1.6279.6001.192256506776...   \n",
       "889  1.3.6.1.4.1.14519.5.2.1.6279.6001.192256506776...   \n",
       "890  1.3.6.1.4.1.14519.5.2.1.6279.6001.192256506776...   \n",
       "891  1.3.6.1.4.1.14519.5.2.1.6279.6001.192256506776...   \n",
       "892  1.3.6.1.4.1.14519.5.2.1.6279.6001.192256506776...   \n",
       "893  1.3.6.1.4.1.14519.5.2.1.6279.6001.192256506776...   \n",
       "\n",
       "                                           CT Location  \n",
       "888  ./LIDC-IDRI/LIDC-IDRI-0777/01-01-2000-NA-NA-23...  \n",
       "889  ./LIDC-IDRI/LIDC-IDRI-0777/01-01-2000-NA-NA-23...  \n",
       "890  ./LIDC-IDRI/LIDC-IDRI-0777/01-01-2000-NA-NA-23...  \n",
       "891  ./LIDC-IDRI/LIDC-IDRI-0777/01-01-2000-NA-NA-23...  \n",
       "892  ./LIDC-IDRI/LIDC-IDRI-0777/01-01-2000-NA-NA-23...  \n",
       "893  ./LIDC-IDRI/LIDC-IDRI-0777/01-01-2000-NA-NA-23...  "
      ]
     },
     "execution_count": 151,
     "metadata": {},
     "output_type": "execute_result"
    }
   ],
   "source": [
    "df_xml[df_xml[\"Series UID\"] == \"1.3.6.1.4.1.14519.5.2.1.6279.6001.192256506776434538421891524301\"]"
   ]
  },
  {
   "cell_type": "code",
   "execution_count": 155,
   "metadata": {},
   "outputs": [],
   "source": [
    "a = parseXML(\"../tcia-lidc-xml/189/028.xml\")"
   ]
  },
  {
   "cell_type": "code",
   "execution_count": 156,
   "metadata": {},
   "outputs": [],
   "source": [
    "b = parseXML(\"../tcia-lidc-xml/189/033.xml\")"
   ]
  },
  {
   "cell_type": "code",
   "execution_count": 157,
   "metadata": {},
   "outputs": [
    {
     "data": {
      "text/plain": [
       "True"
      ]
     },
     "execution_count": 157,
     "metadata": {},
     "output_type": "execute_result"
    }
   ],
   "source": [
    "a == b"
   ]
  },
  {
   "cell_type": "markdown",
   "metadata": {},
   "source": [
    "## 하나만 남김"
   ]
  },
  {
   "cell_type": "code",
   "execution_count": 175,
   "metadata": {},
   "outputs": [],
   "source": [
    "for u in df_xml[\"Series UID\"].value_counts().index[:6]:\n",
    "    tmp_df = df_xml[df_xml[\"Series UID\"] == u]\n",
    "    row_num = 0\n",
    "    for i, row in tmp_df.iterrows():\n",
    "        row_num += 1\n",
    "        if row_num == 1:\n",
    "            continue\n",
    "        df_xml = df_xml.drop(i)"
   ]
  },
  {
   "cell_type": "code",
   "execution_count": 178,
   "metadata": {},
   "outputs": [],
   "source": [
    "df_xml = df_xml.reset_index(drop=True)"
   ]
  },
  {
   "cell_type": "code",
   "execution_count": 179,
   "metadata": {},
   "outputs": [
    {
     "data": {
      "text/html": [
       "<div>\n",
       "<style scoped>\n",
       "    .dataframe tbody tr th:only-of-type {\n",
       "        vertical-align: middle;\n",
       "    }\n",
       "\n",
       "    .dataframe tbody tr th {\n",
       "        vertical-align: top;\n",
       "    }\n",
       "\n",
       "    .dataframe thead th {\n",
       "        text-align: right;\n",
       "    }\n",
       "</style>\n",
       "<table border=\"1\" class=\"dataframe\">\n",
       "  <thead>\n",
       "    <tr style=\"text-align: right;\">\n",
       "      <th></th>\n",
       "      <th>path</th>\n",
       "      <th>Series UID</th>\n",
       "      <th>CT Location</th>\n",
       "    </tr>\n",
       "  </thead>\n",
       "  <tbody>\n",
       "    <tr>\n",
       "      <th>0</th>\n",
       "      <td>tcia-lidc-xml/157/158.xml</td>\n",
       "      <td>1.3.6.1.4.1.14519.5.2.1.6279.6001.303494235102...</td>\n",
       "      <td>./LIDC-IDRI/LIDC-IDRI-0078/01-01-2000-NA-NA-68...</td>\n",
       "    </tr>\n",
       "    <tr>\n",
       "      <th>1</th>\n",
       "      <td>tcia-lidc-xml/157/159.xml</td>\n",
       "      <td>1.3.6.1.4.1.14519.5.2.1.6279.6001.131939324905...</td>\n",
       "      <td>./LIDC-IDRI/LIDC-IDRI-0069/01-01-2000-NA-NA-29...</td>\n",
       "    </tr>\n",
       "    <tr>\n",
       "      <th>2</th>\n",
       "      <td>tcia-lidc-xml/157/160.xml</td>\n",
       "      <td>1.3.6.1.4.1.14519.5.2.1.6279.6001.213233719488...</td>\n",
       "      <td>./LIDC-IDRI/LIDC-IDRI-0079/01-01-2000-NA-NA-37...</td>\n",
       "    </tr>\n",
       "    <tr>\n",
       "      <th>3</th>\n",
       "      <td>tcia-lidc-xml/157/161.xml</td>\n",
       "      <td>1.3.6.1.4.1.14519.5.2.1.6279.6001.340202188094...</td>\n",
       "      <td>./LIDC-IDRI/LIDC-IDRI-0101/01-01-2000-NA-NA-57...</td>\n",
       "    </tr>\n",
       "    <tr>\n",
       "      <th>4</th>\n",
       "      <td>tcia-lidc-xml/157/162.xml</td>\n",
       "      <td>1.3.6.1.4.1.14519.5.2.1.6279.6001.311102747717...</td>\n",
       "      <td>./LIDC-IDRI/LIDC-IDRI-0110/01-01-2000-NA-NA-26...</td>\n",
       "    </tr>\n",
       "    <tr>\n",
       "      <th>...</th>\n",
       "      <td>...</td>\n",
       "      <td>...</td>\n",
       "      <td>...</td>\n",
       "    </tr>\n",
       "    <tr>\n",
       "      <th>1013</th>\n",
       "      <td>tcia-lidc-xml/189/169.xml</td>\n",
       "      <td>1.3.6.1.4.1.14519.5.2.1.6279.6001.299767339686...</td>\n",
       "      <td>./LIDC-IDRI/LIDC-IDRI-0641/01-01-2000-NA-CHEST...</td>\n",
       "    </tr>\n",
       "    <tr>\n",
       "      <th>1014</th>\n",
       "      <td>tcia-lidc-xml/189/170.xml</td>\n",
       "      <td>1.3.6.1.4.1.14519.5.2.1.6279.6001.175773779529...</td>\n",
       "      <td>./LIDC-IDRI/LIDC-IDRI-0640/01-01-2000-NA-NA-73...</td>\n",
       "    </tr>\n",
       "    <tr>\n",
       "      <th>1015</th>\n",
       "      <td>tcia-lidc-xml/189/171.xml</td>\n",
       "      <td>1.3.6.1.4.1.14519.5.2.1.6279.6001.293593766328...</td>\n",
       "      <td>./LIDC-IDRI/LIDC-IDRI-0639/01-01-2000-NA-NA-37...</td>\n",
       "    </tr>\n",
       "    <tr>\n",
       "      <th>1016</th>\n",
       "      <td>tcia-lidc-xml/189/172.xml</td>\n",
       "      <td>1.3.6.1.4.1.14519.5.2.1.6279.6001.133132722052...</td>\n",
       "      <td>./LIDC-IDRI/LIDC-IDRI-0638/01-01-2000-NA-CHEST...</td>\n",
       "    </tr>\n",
       "    <tr>\n",
       "      <th>1017</th>\n",
       "      <td>tcia-lidc-xml/189/173.xml</td>\n",
       "      <td>1.3.6.1.4.1.14519.5.2.1.6279.6001.229343399861...</td>\n",
       "      <td>./LIDC-IDRI/LIDC-IDRI-0127/01-01-2000-NA-NA-00...</td>\n",
       "    </tr>\n",
       "  </tbody>\n",
       "</table>\n",
       "<p>1018 rows × 3 columns</p>\n",
       "</div>"
      ],
      "text/plain": [
       "                           path  \\\n",
       "0     tcia-lidc-xml/157/158.xml   \n",
       "1     tcia-lidc-xml/157/159.xml   \n",
       "2     tcia-lidc-xml/157/160.xml   \n",
       "3     tcia-lidc-xml/157/161.xml   \n",
       "4     tcia-lidc-xml/157/162.xml   \n",
       "...                         ...   \n",
       "1013  tcia-lidc-xml/189/169.xml   \n",
       "1014  tcia-lidc-xml/189/170.xml   \n",
       "1015  tcia-lidc-xml/189/171.xml   \n",
       "1016  tcia-lidc-xml/189/172.xml   \n",
       "1017  tcia-lidc-xml/189/173.xml   \n",
       "\n",
       "                                             Series UID  \\\n",
       "0     1.3.6.1.4.1.14519.5.2.1.6279.6001.303494235102...   \n",
       "1     1.3.6.1.4.1.14519.5.2.1.6279.6001.131939324905...   \n",
       "2     1.3.6.1.4.1.14519.5.2.1.6279.6001.213233719488...   \n",
       "3     1.3.6.1.4.1.14519.5.2.1.6279.6001.340202188094...   \n",
       "4     1.3.6.1.4.1.14519.5.2.1.6279.6001.311102747717...   \n",
       "...                                                 ...   \n",
       "1013  1.3.6.1.4.1.14519.5.2.1.6279.6001.299767339686...   \n",
       "1014  1.3.6.1.4.1.14519.5.2.1.6279.6001.175773779529...   \n",
       "1015  1.3.6.1.4.1.14519.5.2.1.6279.6001.293593766328...   \n",
       "1016  1.3.6.1.4.1.14519.5.2.1.6279.6001.133132722052...   \n",
       "1017  1.3.6.1.4.1.14519.5.2.1.6279.6001.229343399861...   \n",
       "\n",
       "                                            CT Location  \n",
       "0     ./LIDC-IDRI/LIDC-IDRI-0078/01-01-2000-NA-NA-68...  \n",
       "1     ./LIDC-IDRI/LIDC-IDRI-0069/01-01-2000-NA-NA-29...  \n",
       "2     ./LIDC-IDRI/LIDC-IDRI-0079/01-01-2000-NA-NA-37...  \n",
       "3     ./LIDC-IDRI/LIDC-IDRI-0101/01-01-2000-NA-NA-57...  \n",
       "4     ./LIDC-IDRI/LIDC-IDRI-0110/01-01-2000-NA-NA-26...  \n",
       "...                                                 ...  \n",
       "1013  ./LIDC-IDRI/LIDC-IDRI-0641/01-01-2000-NA-CHEST...  \n",
       "1014  ./LIDC-IDRI/LIDC-IDRI-0640/01-01-2000-NA-NA-73...  \n",
       "1015  ./LIDC-IDRI/LIDC-IDRI-0639/01-01-2000-NA-NA-37...  \n",
       "1016  ./LIDC-IDRI/LIDC-IDRI-0638/01-01-2000-NA-CHEST...  \n",
       "1017  ./LIDC-IDRI/LIDC-IDRI-0127/01-01-2000-NA-NA-00...  \n",
       "\n",
       "[1018 rows x 3 columns]"
      ]
     },
     "execution_count": 179,
     "metadata": {},
     "output_type": "execute_result"
    }
   ],
   "source": [
    "df_xml"
   ]
  },
  {
   "cell_type": "code",
   "execution_count": 180,
   "metadata": {},
   "outputs": [],
   "source": [
    "df_xml.to_csv(\"../xml_cases.csv\", index=False)"
   ]
  },
  {
   "cell_type": "markdown",
   "metadata": {},
   "source": [
    "## TODO: processing 161-resubmitted-correction-3-9-12.xml "
   ]
  },
  {
   "cell_type": "code",
   "execution_count": 149,
   "metadata": {},
   "outputs": [
    {
     "data": {
      "text/html": [
       "<div>\n",
       "<style scoped>\n",
       "    .dataframe tbody tr th:only-of-type {\n",
       "        vertical-align: middle;\n",
       "    }\n",
       "\n",
       "    .dataframe tbody tr th {\n",
       "        vertical-align: top;\n",
       "    }\n",
       "\n",
       "    .dataframe thead th {\n",
       "        text-align: right;\n",
       "    }\n",
       "</style>\n",
       "<table border=\"1\" class=\"dataframe\">\n",
       "  <thead>\n",
       "    <tr style=\"text-align: right;\">\n",
       "      <th></th>\n",
       "      <th>path</th>\n",
       "      <th>Series UID</th>\n",
       "      <th>CT Location</th>\n",
       "    </tr>\n",
       "  </thead>\n",
       "  <tbody>\n",
       "    <tr>\n",
       "      <th>3</th>\n",
       "      <td>tcia-lidc-xml/157/161.xml</td>\n",
       "      <td>1.3.6.1.4.1.14519.5.2.1.6279.6001.340202188094...</td>\n",
       "      <td>./LIDC-IDRI/LIDC-IDRI-0101/01-01-2000-NA-NA-57...</td>\n",
       "    </tr>\n",
       "  </tbody>\n",
       "</table>\n",
       "</div>"
      ],
      "text/plain": [
       "                        path  \\\n",
       "3  tcia-lidc-xml/157/161.xml   \n",
       "\n",
       "                                          Series UID  \\\n",
       "3  1.3.6.1.4.1.14519.5.2.1.6279.6001.340202188094...   \n",
       "\n",
       "                                         CT Location  \n",
       "3  ./LIDC-IDRI/LIDC-IDRI-0101/01-01-2000-NA-NA-57...  "
      ]
     },
     "execution_count": 149,
     "metadata": {},
     "output_type": "execute_result"
    }
   ],
   "source": [
    "df_xml[df_xml[\"Series UID\"] == \"1.3.6.1.4.1.14519.5.2.1.6279.6001.340202188094259402036602717327\"]"
   ]
  }
 ],
 "metadata": {
  "kernelspec": {
   "display_name": "Python 3",
   "language": "python",
   "name": "python3"
  },
  "language_info": {
   "codemirror_mode": {
    "name": "ipython",
    "version": 3
   },
   "file_extension": ".py",
   "mimetype": "text/x-python",
   "name": "python",
   "nbconvert_exporter": "python",
   "pygments_lexer": "ipython3",
   "version": "3.7.4"
  }
 },
 "nbformat": 4,
 "nbformat_minor": 4
}
