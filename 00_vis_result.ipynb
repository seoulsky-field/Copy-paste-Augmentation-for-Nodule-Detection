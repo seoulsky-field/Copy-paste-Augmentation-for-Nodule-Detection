{
 "cells": [
  {
   "cell_type": "code",
   "execution_count": null,
   "metadata": {},
   "outputs": [],
   "source": [
    "from glob import glob\n",
    "import os\n",
    "import pandas as pd\n",
    "import matplotlib.pyplot as plt\n",
    "import matplotlib.patches as patches\n",
    "from PIL import Image, ImageDraw\n",
    "import json\n",
    "import numpy as np"
   ]
  },
  {
   "cell_type": "markdown",
   "metadata": {},
   "source": [
    "# Show Ground Truth (plot original, ground truth, emphasizing the area)"
   ]
  },
  {
   "cell_type": "code",
   "execution_count": null,
   "metadata": {},
   "outputs": [],
   "source": [
    "test_file_path = './data/original_final/test'"
   ]
  },
  {
   "cell_type": "code",
   "execution_count": null,
   "metadata": {},
   "outputs": [],
   "source": [
    "want_to_check = list(map(os.path.basename, glob(os.path.join(test_file_path, '*.png'))))"
   ]
  },
  {
   "cell_type": "code",
   "execution_count": null,
   "metadata": {},
   "outputs": [],
   "source": [
    "check_file = want_to_check[6]\n",
    "\n",
    "plt.figure(figsize=(20,20))\n",
    "\n",
    "# Plot DRR Image without Nodules\n",
    "a0 = plt.subplot(1, 3, 1)\n",
    "plt.imshow(Image.open(os.path.join(original_file_path, check_file)), cmap='gray')\n",
    "a0.axis(False)\n",
    "\n",
    "\n",
    "# Plot DRR Image with Nodules\n",
    "a1 = plt.subplot(1, 3, 2)\n",
    "img = Image.open(os.path.join(original_file_path, check_file))\n",
    "\n",
    "with open('./test_revised_opencxr.json') as json_read:\n",
    "    json_data = json.load(json_read)\n",
    "\n",
    "img_idx = 0\n",
    "for idx in range(len(json_data['images'])):\n",
    "    if json_data['images'][idx]['file_name'] == check_file:\n",
    "        img_idx = json_data['images'][idx]['id']\n",
    "        break\n",
    "\n",
    "anno_idx = []\n",
    "for idx in range(len(json_data['annotations'])):\n",
    "    if json_data['annotations'][idx]['image_id'] == img_idx:\n",
    "        anno_idx.append(idx)\n",
    "\n",
    "for idx in anno_idx:\n",
    "    row = json_data['annotations'][idx]\n",
    "    bbox_x, bbox_y, bbox_w, bbox_h = row['bbox']\n",
    "    print(bbox_x, bbox_y, bbox_w, bbox_h)\n",
    "    rect = patches.Rectangle((bbox_x, bbox_y), bbox_w, bbox_h, linewidth=2, edgecolor='b', facecolor='none')\n",
    "    a1.add_patch(rect)\n",
    "\n",
    "plt.imshow(img, cmap='gray')\n",
    "a1.axis('off')\n",
    "\n",
    "# Overlay mask over the drr image.\n",
    "a2 = plt.subplot(1, 3, 3)\n",
    "img_norm = np.array(img)\n",
    "mask_img = Image.open(glob(os.path.join('./data/original_final/mask_all', check_file.replace('_img.png', '') + '*.png'))[0])\n",
    "mask_img = np.array(mask_img)\n",
    "mask_norm = mask_img[:, :, 0]\n",
    "\n",
    "mask_overlay = np.ma.masked_where(mask_norm > 0, mask_norm)\n",
    "img2mask = np.ma.masked_array(mask_norm, mask_overlay)\n",
    "\n",
    "plt.imshow(img_norm, cmap='gray')\n",
    "plt.imshow(img2mask, cmap='gray', interpolation='none', alpha=0.5)\n",
    "a2.axis('off')"
   ]
  },
  {
   "cell_type": "markdown",
   "metadata": {},
   "source": [
    "# Compare Detection Results (plot original, ground truth, prediction)"
   ]
  },
  {
   "cell_type": "code",
   "execution_count": null,
   "metadata": {},
   "outputs": [],
   "source": [
    "test_file_path = './data/original_final/test'\n",
    "result_file_path = './test_result/cp_faster_rcnn_resnet50_set1'"
   ]
  },
  {
   "cell_type": "code",
   "execution_count": null,
   "metadata": {},
   "outputs": [],
   "source": [
    "want_to_check = list(map(os.path.basename, glob(os.path.join(result_file_path, '*.png'))))"
   ]
  },
  {
   "cell_type": "code",
   "execution_count": null,
   "metadata": {},
   "outputs": [],
   "source": [
    "check_file = want_to_check[0]\n",
    "\n",
    "plt.figure(figsize=(20,20))\n",
    "\n",
    "# Plot DRR Image without Nodules\n",
    "a0 = plt.subplot(1, 3, 1)\n",
    "plt.imshow(Image.open(os.path.join(original_file_path, check_file)), cmap='gray')\n",
    "a0.axis(False)\n",
    "\n",
    "\n",
    "# Plot DRR Image with Nodules\n",
    "a1 = plt.subplot(1, 3, 2)\n",
    "img = Image.open(os.path.join(original_file_path, check_file))\n",
    "\n",
    "with open('./test_revised_opencxr.json') as json_read:\n",
    "    json_data = json.load(json_read)\n",
    "\n",
    "img_idx = -1\n",
    "for idx in range(len(json_data['images'])):\n",
    "    if json_data['images'][idx]['file_name'] == check_file:\n",
    "        img_idx = json_data['images'][idx]['id']\n",
    "        break\n",
    "\n",
    "anno_idx = []\n",
    "for idx in range(len(json_data['annotations'])):\n",
    "    if json_data['annotations'][idx]['image_id'] == img_idx:\n",
    "        anno_idx.append(idx)\n",
    "\n",
    "for idx in anno_idx:\n",
    "    row = json_data['annotations'][idx]\n",
    "    bbox_x, bbox_y, bbox_w, bbox_h = row['bbox']\n",
    "    rect = patches.Rectangle((bbox_x, bbox_y), bbox_w, bbox_h, linewidth=2, edgecolor='b', facecolor='none')\n",
    "    a1.add_patch(rect)\n",
    "\n",
    "plt.imshow(img, cmap='gray')\n",
    "a1.axis('off')\n",
    "\n",
    "\n",
    "# Plot predicted DRR Image with Nodules\n",
    "a2 = plt.subplot(1, 3, 3)\n",
    "plt.imshow(Image.open(os.path.join(result_file_path, check_file)), cmap='gray')\n",
    "a2.axis('off')\n",
    "plt.show()"
   ]
  }
 ],
 "metadata": {
  "kernelspec": {
   "display_name": "Python 3",
   "language": "python",
   "name": "python3"
  },
  "language_info": {
   "codemirror_mode": {
    "name": "ipython",
    "version": 3
   },
   "file_extension": ".py",
   "mimetype": "text/x-python",
   "name": "python",
   "nbconvert_exporter": "python",
   "pygments_lexer": "ipython3",
   "version": "3.6.9"
  }
 },
 "nbformat": 4,
 "nbformat_minor": 4
}
