{
 "cells": [
  {
   "cell_type": "code",
   "execution_count": null,
   "metadata": {},
   "outputs": [],
   "source": [
    "import opencxr\n",
    "from opencxr.utils.file_io import read_file, write_file\n",
    "from opencxr.utils import apply_size_changes_to_img\n",
    "\n",
    "%matplotlib inline\n",
    "import matplotlib.pyplot as plt\n",
    "import matplotlib.patches as patches\n",
    "\n",
    "import os\n",
    "import numpy as np\n",
    "import pandas as pd\n",
    "\n",
    "from tqdm import tqdm\n",
    "from glob import glob\n",
    "\n",
    "import datetime\n",
    "from PIL import Image\n",
    "\n",
    "import random"
   ]
  },
  {
   "cell_type": "code",
   "execution_count": null,
   "metadata": {},
   "outputs": [],
   "source": [
    "cxr_std_algorithm = opencxr.load(opencxr.algorithms.cxr_standardize)"
   ]
  },
  {
   "cell_type": "markdown",
   "metadata": {},
   "source": [
    "## Convert train data"
   ]
  },
  {
   "cell_type": "code",
   "execution_count": null,
   "metadata": {},
   "outputs": [],
   "source": [
    "drr_path = '../data/PNG_normwinall_train_20mm'\n",
    "mask_path = '../data/DRR_mask'\n",
    "save_all_path = '../data/only_20_original/data_all'\n",
    "save_mask_path = '../data/only_20_original/mask_all'\n",
    "save_train_path = '../data/only_20_original/train'\n",
    "save_valid_path = '../data/only_20_original/valid'\n",
    "save_test_path = '../data/only_20_original/test'"
   ]
  },
  {
   "cell_type": "code",
   "execution_count": null,
   "metadata": {},
   "outputs": [],
   "source": [
    "train_neg = pd.read_csv('../train_neg_revised.csv')\n",
    "train_neg.head(5)"
   ]
  },
  {
   "cell_type": "code",
   "execution_count": null,
   "metadata": {},
   "outputs": [],
   "source": [
    "img_path_lst = train_neg.img_path.values\n",
    "check_double = []\n",
    "for img_path in tqdm(img_path_lst):\n",
    "    if img_path in check_double:\n",
    "        continue\n",
    "    else:\n",
    "        check_double.append(img_path)\n",
    "        file_name = img_path.split('/')[-1].replace('nii.gz', 'png')\n",
    "        img_np, spacing, _ = read_file(os.path.join(drr_path, file_name))\n",
    "        std_img, new_spacing, size_changes = cxr_std_algorithm.run(img_np, spacing)\n",
    "        std_img = np.transpose(std_img)\n",
    "        \n",
    "        plt.imsave(os.path.join(save_all_path, file_name), std_img, cmap='Greys_r')\n",
    "        plt.imsave(os.path.join(save_train_path, file_name), std_img, cmap='Greys_r')"
   ]
  },
  {
   "cell_type": "code",
   "execution_count": null,
   "metadata": {},
   "outputs": [],
   "source": [
    "train_pos = pd.read_csv('../train_pos_revised.csv')\n",
    "\n",
    "check_double = []\n",
    "for _, row in tqdm(train_pos.iterrows()):\n",
    "    if row.img_path in check_double:\n",
    "        pass\n",
    "    else:\n",
    "        check_double.append(row.img_path)\n",
    "        file_name = row.img_path.split('/')[-1].replace('nii.gz', 'png')\n",
    "        img_np, spacing, _ = read_file(os.path.join(drr_path, file_name))\n",
    "        std_img, new_spacing, size_changes = cxr_std_algorithm.run(img_np, spacing)\n",
    "        std_img = np.transpose(std_img)\n",
    "        \n",
    "        plt.imsave(os.path.join(save_all_path, file_name), std_img, cmap='Greys_r')\n",
    "        plt.imsave(os.path.join(save_train_path, file_name), std_img, cmap='Greys_r')\n",
    "    \n",
    "    mask_file_name = row.nod_path.split('/')[-1].replace('nii.gz', 'png')\n",
    "    img_np_mask, spacing_mask, _ = read_file(os.path.join(drr_path, mask_file_name))\n",
    "    new_mask_png, _ = apply_size_changes_to_img(img_np_mask, new_spacing, size_changes)\n",
    "    new_mask_png = np.transpose(new_mask_png)\n",
    "    \n",
    "    plt.imsave(os.path.join(save_mask_path, mask_file_name), new_mask_png, cmap='Greys_r')"
   ]
  },
  {
   "cell_type": "markdown",
   "metadata": {},
   "source": [
    "## Convert valid data"
   ]
  },
  {
   "cell_type": "code",
   "execution_count": null,
   "metadata": {},
   "outputs": [],
   "source": [
    "valid_neg = pd.read_csv('../valid_neg_revised.csv')\n",
    "\n",
    "img_path_lst = valid_neg.img_path.values\n",
    "check_double = []\n",
    "for img_path in tqdm(img_path_lst):\n",
    "    if img_path in check_double:\n",
    "        continue\n",
    "    else:\n",
    "        check_double.append(img_path)\n",
    "        file_name = img_path.split('/')[-1].replace('nii.gz', 'png')\n",
    "        img_np, spacing, _ = read_file(os.path.join(drr_path, file_name))\n",
    "        std_img, new_spacing, size_changes = cxr_std_algorithm.run(img_np, spacing)\n",
    "        std_img = np.transpose(std_img)\n",
    "        \n",
    "        plt.imsave(os.path.join(save_all_path, file_name), std_img, cmap='Greys_r')\n",
    "        plt.imsave(os.path.join(save_valid_path, file_name), std_img, cmap='Greys_r')"
   ]
  },
  {
   "cell_type": "code",
   "execution_count": null,
   "metadata": {},
   "outputs": [],
   "source": [
    "valid_pos = pd.read_csv('../valid_pos_revised.csv')\n",
    "\n",
    "check_double = []\n",
    "for _, row in tqdm(valid_pos.iterrows()):\n",
    "    if row.img_path in check_double:\n",
    "        pass\n",
    "    else:\n",
    "        check_double.append(row.img_path)\n",
    "        file_name = row.img_path.split('/')[-1].replace('nii.gz', 'png')\n",
    "        img_np, spacing, _ = read_file(os.path.join(drr_path, file_name))\n",
    "        std_img, new_spacing, size_changes = cxr_std_algorithm.run(img_np, spacing)\n",
    "        std_img = np.transpose(std_img)\n",
    "        \n",
    "        plt.imsave(os.path.join(save_all_path, file_name), std_img, cmap='Greys_r')\n",
    "        plt.imsave(os.path.join(save_valid_path, file_name), std_img, cmap='Greys_r')\n",
    "    \n",
    "    mask_file_name = row.nod_path.split('/')[-1].replace('nii.gz', 'png')\n",
    "    img_np_mask, spacing_mask, _ = read_file(os.path.join(drr_path, mask_file_name))\n",
    "    new_mask_png, _ = apply_size_changes_to_img(img_np_mask, new_spacing, size_changes)\n",
    "    new_mask_png = np.transpose(new_mask_png)\n",
    "    \n",
    "    plt.imsave(os.path.join(save_mask_path, mask_file_name), new_mask_png, cmap='Greys_r')"
   ]
  },
  {
   "cell_type": "markdown",
   "metadata": {},
   "source": [
    "## Convert test data"
   ]
  },
  {
   "cell_type": "code",
   "execution_count": null,
   "metadata": {},
   "outputs": [],
   "source": [
    "test_pos = pd.read_csv('../test_pos_revised.csv')\n",
    "\n",
    "check_double = []\n",
    "for _, row in tqdm(test_pos.iterrows()):\n",
    "    if row.img_path in check_double:\n",
    "        pass\n",
    "    else:\n",
    "        check_double.append(row.img_path)\n",
    "        file_name = row.img_path.split('/')[-1].replace('nii.gz', 'png')\n",
    "        img_np, spacing, _ = read_file(os.path.join(drr_path, file_name))\n",
    "        std_img, new_spacing, size_changes = cxr_std_algorithm.run(img_np, spacing)\n",
    "        std_img = np.transpose(std_img)\n",
    "        \n",
    "        plt.imsave(os.path.join(save_all_path, file_name), std_img, cmap='Greys_r')\n",
    "        plt.imsave(os.path.join(save_test_path, file_name), std_img, cmap='Greys_r')\n",
    "    \n",
    "    mask_file_name = row.nod_path.split('/')[-1].replace('nii.gz', 'png')\n",
    "    img_np_mask, spacing_mask, _ = read_file(os.path.join(drr_path, mask_file_name))\n",
    "    new_mask_png, _ = apply_size_changes_to_img(img_np_mask, new_spacing, size_changes)\n",
    "    new_mask_png = np.transpose(new_mask_png)\n",
    "    \n",
    "    plt.imsave(os.path.join(save_mask_path, mask_file_name), new_mask_png, cmap='Greys_r')"
   ]
  }
 ],
 "metadata": {
  "kernelspec": {
   "display_name": "Python 3",
   "language": "python",
   "name": "python3"
  },
  "language_info": {
   "codemirror_mode": {
    "name": "ipython",
    "version": 3
   },
   "file_extension": ".py",
   "mimetype": "text/x-python",
   "name": "python",
   "nbconvert_exporter": "python",
   "pygments_lexer": "ipython3",
   "version": "3.6.9"
  }
 },
 "nbformat": 4,
 "nbformat_minor": 4
}
