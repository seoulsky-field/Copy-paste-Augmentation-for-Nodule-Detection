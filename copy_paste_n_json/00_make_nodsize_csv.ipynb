{
 "cells": [
  {
   "cell_type": "code",
   "execution_count": 1,
   "metadata": {},
   "outputs": [],
   "source": [
    "from glob import glob\n",
    "import os\n",
    "import numpy as np\n",
    "import pandas as pd"
   ]
  },
  {
   "cell_type": "markdown",
   "metadata": {},
   "source": [
    "## Make nod_size csv (with smoothing)"
   ]
  },
  {
   "cell_type": "markdown",
   "metadata": {},
   "source": [
    "### All nod"
   ]
  },
  {
   "cell_type": "code",
   "execution_count": 177,
   "metadata": {},
   "outputs": [],
   "source": [
    "with open('../preprocess/nod_2925.csv', 'r') as f:\n",
    "    df = pd.read_csv(f)\n",
    "    \n",
    "df.rename(columns={'path':'nod_path', 'nii_path':'img_path'},inplace=True)\n",
    "    \n",
    "img_nii_path = df['img_path'].values\n",
    "nod_path = df['nod_path'].values\n",
    "\n",
    "for idx in range(len(df_nod)):\n",
    "    img_nii_path[idx] = img_nii_path[idx].replace('NII_norm', 'NII_normwinall')\n",
    "    nod_path[idx] = nod_path[idx].replace('NII_norm', 'NII_normwinall')\n",
    "\n",
    "df.to_csv('../nod_smoothing.csv', index=False)"
   ]
  },
  {
   "cell_type": "markdown",
   "metadata": {},
   "source": [
    "### nod > 10"
   ]
  },
  {
   "cell_type": "code",
   "execution_count": 6,
   "metadata": {},
   "outputs": [],
   "source": [
    "with open('../nod_smoothing_10.csv', 'r') as f:\n",
    "    df = pd.read_csv(f)\n",
    "df_nod=df[(df.height >= 10) & (df.width >= 10)].reset_index(drop=True)\n",
    "df_nod.to_csv('../nod_smoothing_10_10mm.csv', index=False)"
   ]
  },
  {
   "cell_type": "markdown",
   "metadata": {},
   "source": [
    "### nod > 20"
   ]
  },
  {
   "cell_type": "code",
   "execution_count": null,
   "metadata": {},
   "outputs": [],
   "source": [
    "with open('../nod_smoothing_10.csv', 'r') as f:\n",
    "    df = pd.read_csv(f)\n",
    "df_nod=df[(df.height >= 20) & (df.width >= 20)].reset_index(drop=True)\n",
    "df_nod.to_csv('../nod_smoothing_10_20mm.csv', index=False)"
   ]
  }
 ],
 "metadata": {
  "kernelspec": {
   "display_name": "Python 3",
   "language": "python",
   "name": "python3"
  },
  "language_info": {
   "codemirror_mode": {
    "name": "ipython",
    "version": 3
   },
   "file_extension": ".py",
   "mimetype": "text/x-python",
   "name": "python",
   "nbconvert_exporter": "python",
   "pygments_lexer": "ipython3",
   "version": "3.7.4"
  }
 },
 "nbformat": 4,
 "nbformat_minor": 4
}
