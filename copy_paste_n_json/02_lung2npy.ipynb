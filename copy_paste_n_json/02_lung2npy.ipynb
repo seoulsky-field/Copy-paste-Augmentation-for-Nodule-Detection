{
 "cells": [
  {
   "cell_type": "code",
   "execution_count": 5,
   "metadata": {},
   "outputs": [],
   "source": [
    "import pandas as pd\n",
    "import pydicom\n",
    "import os\n",
    "from tqdm import tqdm\n",
    "from glob import glob\n",
    "import nibabel as nib\n",
    "import numpy as np\n",
    "# from drr_raysum import *\n",
    "import pickle\n",
    "import scipy.ndimage"
   ]
  },
  {
   "cell_type": "code",
   "execution_count": 13,
   "metadata": {},
   "outputs": [],
   "source": [
    "AVIEW_PATH = '../data/AVIEW_lungseg/01'\n",
    "df_aview = pd.read_csv('../preprocess/nii_1018_aview.csv')"
   ]
  },
  {
   "cell_type": "code",
   "execution_count": 7,
   "metadata": {},
   "outputs": [],
   "source": [
    "def resample(image, slices, new_spacing=[1,1,1]):\n",
    "    '''\n",
    "    3d resize\n",
    "    '''\n",
    "    # Determine current pixel spacing\n",
    "    # SliceThickness를 쓰면 overlapping되게 찍은 경우 고려가 안되어서 ImagePositionPatient을 사용\n",
    "    spacing = np.array(list(slices[0].PixelSpacing) + [np.abs(slices[1].ImagePositionPatient[-1]-slices[0].ImagePositionPatient[-1])], dtype=np.float32)\n",
    "    \n",
    "    resize_factor = spacing / new_spacing\n",
    "    new_shape = np.round(image.shape * resize_factor)\n",
    "    \n",
    "    # recompute the resize factor and spacing such that we match the rounded new shape above\n",
    "    rounded_resize_factor = new_shape / image.shape\n",
    "    rounded_new_spacing = spacing / rounded_resize_factor\n",
    "    \n",
    "    # zoom with resize factor\n",
    "    image = scipy.ndimage.interpolation.zoom(image, rounded_resize_factor, mode='nearest')\n",
    "    \n",
    "    return image, rounded_new_spacing\n",
    "\n",
    "def load_mask_dict(mask_path):\n",
    "    segment_arr_dict = dict()\n",
    "    mask_name = [x.split('.')[-3] for x in mask_path]\n",
    "    for obj in range(len(mask_name)):\n",
    "        proxy = nib.load(mask_path[obj])\n",
    "        header = proxy.header\n",
    "        arr = proxy.get_fdata()\n",
    "        img_shape = arr.shape\n",
    "        \n",
    "        roi_img3d = np.zeros(img_shape)\n",
    "        for i in range(img_shape[-1]):\n",
    "            roi_img3d[:, :, i] = arr[:, :, ::-1][:, :, i].T\n",
    "\n",
    "        segment_arr_dict[mask_name[obj]] = roi_img3d\n",
    "        \n",
    "    return segment_arr_dict, mask_name"
   ]
  },
  {
   "cell_type": "markdown",
   "metadata": {},
   "source": [
    "### lung pickle 생성"
   ]
  },
  {
   "cell_type": "code",
   "execution_count": null,
   "metadata": {},
   "outputs": [],
   "source": [
    "empty_list = []\n",
    "for idx in tqdm(range(len(df_aview))):\n",
    "    lung_dict_L={}\n",
    "    lung_dict_R={}\n",
    "    \n",
    "    pickle_name = '.'.join(df_aview.iloc[idx]['path'].split('/')[-1].split('.')[:2])\n",
    "    lung_path = df_aview.iloc[idx]['aview_dir']\n",
    "    patient_mask_folder = glob(os.path.join(AVIEW_PATH,lung_path))[0]\n",
    "    \n",
    "    mask_path = sorted(glob(f\"{patient_mask_folder}/stor/objects/*.nii.gz\"))\n",
    "    dcm_path = sorted(glob(f\"{patient_mask_folder}/*dcm\"))\n",
    "    \n",
    "    # empty\n",
    "    if (len(mask_path) == 0) | (len(dcm_path) == 0):   \n",
    "        empty_list.append(pickle_name)\n",
    "        continue\n",
    "    \n",
    "    slices = []\n",
    "    for fname in dcm_path:\n",
    "        ds = pydicom.dcmread(fname, force=True)\n",
    "        slices.append(ds)\n",
    "        slices = sorted(slices, key=lambda s: s[0x020, 0x032][-1], reverse=True)\n",
    "    \n",
    "    segment_arr_dict, mask_name = load_mask_dict(mask_path)\n",
    "    segment_arr_dict['LtLung'], _ = resample(segment_arr_dict['LtLung'], slices)\n",
    "    segment_arr_dict['RtLung'], _ = resample(segment_arr_dict['RtLung'], slices)\n",
    "    \n",
    "    LtLung = np.where(segment_arr_dict['LtLung'] > 2)\n",
    "    RtLung = np.where(segment_arr_dict['RtLung'] > 2)\n",
    "    \n",
    "    # (x, y, z)\n",
    "    LtLung_ = list(zip(LtLung[0].tolist(), LtLung[1].tolist(), LtLung[2].tolist()))\n",
    "    RtLung_ = list(zip(RtLung[0].tolist(), RtLung[1].tolist(), RtLung[2].tolist()))\n",
    "    \n",
    "    lung_dict_L['Lung']=np.array(LtLung_)\n",
    "    lung_dict_R['Lung']=np.array(RtLung_)\n",
    "    \n",
    "    # save pickle\n",
    "    with open(f'../PICKLE_lungLR/{pickle_name}_Left.pickle', 'wb') as f:\n",
    "        pickle.dump(lung_dict_L, f, pickle.HIGHEST_PROTOCOL)\n",
    "    with open(f'../PICKLE_lungLR/{pickle_name}_Right.pickle', 'wb') as f:\n",
    "        pickle.dump(lung_dict_R, f, pickle.HIGHEST_PROTOCOL)"
   ]
  },
  {
   "cell_type": "markdown",
   "metadata": {},
   "source": [
    "### lung pickle -> lung npy"
   ]
  },
  {
   "cell_type": "code",
   "execution_count": null,
   "metadata": {},
   "outputs": [],
   "source": [
    "# make .pickle file to .npy\n",
    "for pickle_idx in tqdm(range(len_pickle)):\n",
    "    try:\n",
    "        img = nib.load(img_list[pickle_idx]).get_fdata()\n",
    "        fname = '_'.join(pickle_list[pickle_idx].split('/')[-1].split('_')[:-1])\n",
    "\n",
    "        with open(f'../PICKLE_lungLR/{fname}_Right.pickle', 'rb') as p:\n",
    "            pickle_lungR = pickle.load(p)\n",
    "        lung_R = pickle_lungR['Lung']\n",
    "\n",
    "        with open(f'../PICKLE_lungLR/{fname}_Left.pickle', 'rb') as p:\n",
    "            pickle_lungL = pickle.load(p)\n",
    "        lung_L = pickle_lungL['Lung']\n",
    "\n",
    "        lung_npy_R = np.zeros(img.shape, dtype=np.int64)\n",
    "        lung_npy_L = np.zeros(img.shape, dtype=np.int64)\n",
    "\n",
    "        for idx_L in range(len(lung_L)):\n",
    "            lung_npy_L[lung_L[idx_L][0], lung_L[idx_L][1], lung_L[idx_L][2]] = 255\n",
    "\n",
    "        for idx_R in range(len(lung_R)):\n",
    "            lung_npy_R[lung_R[idx_R][0], lung_R[idx_R][1], lung_R[idx_R][2]] = 255\n",
    "\n",
    "        np.save(f'../npy_lungLR/{fname}_Left', lung_npy_L)\n",
    "        np.save(f'../npy_lungLR/{fname}_Right', lung_npy_R)\n",
    "    except:\n",
    "        print(fname)\n",
    "    "
   ]
  }
 ],
 "metadata": {
  "kernelspec": {
   "display_name": "Python 3",
   "language": "python",
   "name": "python3"
  },
  "language_info": {
   "codemirror_mode": {
    "name": "ipython",
    "version": 3
   },
   "file_extension": ".py",
   "mimetype": "text/x-python",
   "name": "python",
   "nbconvert_exporter": "python",
   "pygments_lexer": "ipython3",
   "version": "3.7.4"
  }
 },
 "nbformat": 4,
 "nbformat_minor": 4
}
