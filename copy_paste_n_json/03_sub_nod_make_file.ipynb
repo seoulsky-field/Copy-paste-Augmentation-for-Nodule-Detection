{
 "cells": [
  {
   "cell_type": "markdown",
   "metadata": {},
   "source": [
    "## Subtract nodule from data"
   ]
  },
  {
   "cell_type": "code",
   "execution_count": 2,
   "metadata": {},
   "outputs": [],
   "source": [
    "import nibabel as nib\n",
    "from glob import glob\n",
    "import os\n",
    "import shutil\n",
    "from tqdm import tqdm\n",
    "import numpy as np\n",
    "import pandas as pd\n",
    "from PIL import Image"
   ]
  },
  {
   "cell_type": "code",
   "execution_count": 227,
   "metadata": {},
   "outputs": [],
   "source": [
    "def normalize255(arr):\n",
    "    return np.array(((arr - np.min(arr)) / (np.max(arr) - np.min(arr)))*255).astype(np.uint8)\n",
    "\n",
    "def subtract_nodule(img, nod):\n",
    "    return np.where(nod!=0, np.min(img), img)"
   ]
  },
  {
   "cell_type": "code",
   "execution_count": 5,
   "metadata": {},
   "outputs": [],
   "source": [
    "with open('../train_val_test_v3.csv', 'r') as f:\n",
    "    split_csv = pd.read_csv(f)"
   ]
  },
  {
   "cell_type": "markdown",
   "metadata": {},
   "source": [
    "### Data (train or valid)"
   ]
  },
  {
   "cell_type": "code",
   "execution_count": 6,
   "metadata": {},
   "outputs": [],
   "source": [
    "########## train\n",
    "train_img_path = list(split_csv[split_csv.split=='train'].img_path.values)\n",
    "img_path = train_img_path"
   ]
  },
  {
   "cell_type": "code",
   "execution_count": 297,
   "metadata": {},
   "outputs": [],
   "source": [
    "########## valid\n",
    "val_img_path = list(split_csv[split_csv.split=='val'].img_path.values)\n",
    "img_path = val_img_path"
   ]
  },
  {
   "cell_type": "markdown",
   "metadata": {},
   "source": [
    "### Save valid data .nii (delete nodule X)"
   ]
  },
  {
   "cell_type": "code",
   "execution_count": 301,
   "metadata": {},
   "outputs": [
    {
     "name": "stderr",
     "output_type": "stream",
     "text": [
      "100%|██████████| 192/192 [00:38<00:00,  4.95it/s]\n"
     ]
    }
   ],
   "source": [
    "########## for valid (delete X)\n",
    "\n",
    "for idx in tqdm(range(len(img_path))):\n",
    "    fname = img_path[idx].split('/')[-1]\n",
    "    mask_path = sorted(glob(img_path[idx].replace('img', 'mask*')))\n",
    "    if len(mask_path) == 0:\n",
    "        shutil.copyfile(img_path[idx], f'../data/NII_normwinall_val_20mm/{fname}')\n",
    "    else:\n",
    "        shutil.copyfile(img_path[idx], f'../data/NII_normwinall_val_20mm/{fname}')  \n",
    "        for mask_idx in range(len(mask_path)):\n",
    "            mask_fname = mask_path[mask_idx].split('/')[-1]\n",
    "            shutil.copyfile(mask_path[mask_idx], f'../data/NII_normwinall_val_20mm/{mask_fname}')  \n",
    "            "
   ]
  },
  {
   "cell_type": "markdown",
   "metadata": {},
   "source": [
    "### Save train, valid data .nii (delete nodule O)"
   ]
  },
  {
   "cell_type": "code",
   "execution_count": null,
   "metadata": {},
   "outputs": [
    {
     "name": "stderr",
     "output_type": "stream",
     "text": [
      " 74%|███████▍  | 569/765 [46:12<21:03,  6.44s/it]  "
     ]
    }
   ],
   "source": [
    "########## for train, valid (delete)\n",
    "\n",
    "for idx in tqdm(range(len(img_path))):\n",
    "    fname = img_path[idx].split('/')[-1]\n",
    "    mask_path = sorted(glob(img_path[idx].replace('img', 'mask*')))\n",
    "    if len(mask_path) == 0:\n",
    "        shutil.copyfile(img_path[idx], f'../data/NII_normwinall_train_10mm/{fname}')\n",
    "    else:\n",
    "        img = nib.load(img_path[idx]).get_fdata()\n",
    "        \n",
    "        for mask_idx in range(len(mask_path)):\n",
    "            mask = nib.load(mask_path[mask_idx]).get_fdata()\n",
    "            mask_10 = np.where(mask>=10, mask, 0)\n",
    "\n",
    "            nod_pos = np.where(mask>=10)\n",
    "            nod = mask[min(nod_pos[0]):max(nod_pos[0]), \\\n",
    "                       min(nod_pos[1]):max(nod_pos[1]), \\\n",
    "                       min(nod_pos[2]):max(nod_pos[2])]\n",
    "            nod_shape = nod.shape\n",
    "\n",
    "            # nodule width, height (10mm or 20mm)\n",
    "            if (nod_shape[1] < 10) | (nod_shape[2] < 10):    \n",
    "                img = subtract_nodule(img, mask)\n",
    "            else:\n",
    "                mask_fname = mask_path[mask_idx].split('/')[-1]\n",
    "                mask_nib = nib.Nifti1Image(mask, affine=np.eye(4)) \n",
    "                nib.save(mask_nib, f'../data/NII_normwinall_train_10mm/{mask_fname}')\n",
    "                \n",
    "            \n",
    "        img_nib = nib.Nifti1Image(img, affine=np.eye(4))\n",
    "        nib.save(img_nib, f'../data/NII_normwinall_train_10mm/{fname}')\n"
   ]
  },
  {
   "cell_type": "markdown",
   "metadata": {},
   "source": [
    "### Save train, valid data .png (delete nodule O)"
   ]
  },
  {
   "cell_type": "code",
   "execution_count": null,
   "metadata": {},
   "outputs": [
    {
     "name": "stderr",
     "output_type": "stream",
     "text": [
      " 11%|█▏        | 87/765 [03:51<43:16,  3.83s/it]  "
     ]
    }
   ],
   "source": [
    "# png 저장 (10mm, 20mm)\n",
    "\n",
    "for idx in tqdm(range(len(img_path))):\n",
    "    fname = img_path[idx].split('/')[-1].replace('.nii.gz','.png')\n",
    "    mask_path = sorted(glob(img_path[idx].replace('img', 'mask*')))\n",
    "    \n",
    "    img = nib.load(img_path[idx]).get_fdata()\n",
    "    if len(mask_path) != 0:\n",
    "        img = nib.load(img_path[idx]).get_fdata()\n",
    "        \n",
    "        for mask_idx in range(len(mask_path)):\n",
    "            mask = nib.load(mask_path[mask_idx]).get_fdata()\n",
    "            mask_10 = np.where(mask>=10, mask, 0)\n",
    "\n",
    "            nod_pos = np.where(mask>=10)\n",
    "            nod = mask[min(nod_pos[0]):max(nod_pos[0]), \\\n",
    "                       min(nod_pos[1]):max(nod_pos[1]), \\\n",
    "                       min(nod_pos[2]):max(nod_pos[2])]\n",
    "            nod_shape = nod.shape\n",
    "\n",
    "            if (nod_shape[1] < 10) | (nod_shape[2] < 10):    #width, height\n",
    "                img = subtract_nodule(img, mask)\n",
    "            else:\n",
    "                mask_fname = mask_path[mask_idx].split('/')[-1].replace('.nii.gz','.png')\n",
    "                mean_mask = np.mean(mask_10.T, axis=2)\n",
    "                mean_mask[mean_mask!=0]=255\n",
    "                norm_mask=normalize255(mean_mask)               \n",
    "                Image.fromarray(norm_mask).save(f'../data/PNG_normwinall_train_10mm/{mask_fname}')\n",
    "            \n",
    "    fimg = np.mean(img.T, axis=2)\n",
    "    norm_fimg = normalize255(fimg)\n",
    "    Image.fromarray(norm_fimg).save(f'../data/PNG_normwinall_train_10mm/{fname}')            "
   ]
  }
 ],
 "metadata": {
  "kernelspec": {
   "display_name": "Python 3",
   "language": "python",
   "name": "python3"
  },
  "language_info": {
   "codemirror_mode": {
    "name": "ipython",
    "version": 3
   },
   "file_extension": ".py",
   "mimetype": "text/x-python",
   "name": "python",
   "nbconvert_exporter": "python",
   "pygments_lexer": "ipython3",
   "version": "3.7.4"
  }
 },
 "nbformat": 4,
 "nbformat_minor": 4
}
