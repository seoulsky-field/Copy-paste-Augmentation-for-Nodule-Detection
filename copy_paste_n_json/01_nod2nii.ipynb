{
 "cells": [
  {
   "cell_type": "code",
   "execution_count": 6,
   "metadata": {},
   "outputs": [],
   "source": [
    "import nibabel as nib\n",
    "from glob import glob\n",
    "import os\n",
    "from tqdm import tqdm\n",
    "import numpy as np\n",
    "import pandas as pd"
   ]
  },
  {
   "cell_type": "code",
   "execution_count": 7,
   "metadata": {},
   "outputs": [],
   "source": [
    "def load_lidcset(idx, base_dir = \"../data/NII_normwinall\"): #get img, mask\n",
    "    img_lst = sorted(glob(os.path.join(base_dir, \"*img.nii.gz\")))\n",
    "    mask_lst = sorted(glob(img_lst[idx].replace(\"img\", \"mask*\")))\n",
    "    img = nib.load(img_lst[idx]).get_fdata()\n",
    "    nod = np.array(nib.load(mask_lst[0]).get_fdata())\n",
    "    \n",
    "    return img, nod\n",
    "\n",
    "def normalize255(arr):\n",
    "    return np.array(((arr - np.min(arr)) / (np.max(arr) - np.min(arr)))*255).astype(np.uint8)\n",
    "\n",
    "def subtract_nodule(img, nod):\n",
    "    return np.where(nod!=0, np.min(img), img)\n",
    "\n",
    "def save_nod(nod_img, save_dir = \"../data/NII_nod\", num=0): #num for name\n",
    "    nib.save(nod_img, f'{save_dir}/nod_{num}')\n",
    "\n",
    "def make_drr(img):\n",
    "    return np.mean(img.T, axis=2)\n"
   ]
  },
  {
   "cell_type": "markdown",
   "metadata": {},
   "source": [
    "## Save all nodule"
   ]
  },
  {
   "cell_type": "code",
   "execution_count": null,
   "metadata": {},
   "outputs": [],
   "source": [
    "img_list = sorted(glob(\"../data/NII_normwinall/*img*\"))\n",
    "img_len = len(img_list)\n",
    "\n",
    "for img_idx in tqdm(range(img_len)):\n",
    "    mask_list = sorted(glob(img_list[img_idx].replace(\"img\", \"mask*\")))\n",
    "    mask_len = len(mask_list)\n",
    "    \n",
    "    img=nib.load(img_list[img_idx]).get_fdata()\n",
    "    img = np.uint8(img)\n",
    "\n",
    "    for mask_idx in range(mask_len):\n",
    "        nod = np.array(nib.load(mask_list[mask_idx]).get_fdata())\n",
    "        nod = np.uint8(nod)\n",
    "        nod_pos = np.where(nod > 35) # smoothing 35\n",
    "        \n",
    "        nod_only = nod[min(nod_pos[0]):max(nod_pos[0]), min(nod_pos[1]):max(nod_pos[1]), min(nod_pos[2]):max(nod_pos[2])]\n",
    "        nod_nib = nib.Nifti1Image(nod_only, affine=np.eye(4))\n",
    "        \n",
    "        filename = mask_list[mask_idx].split('/')[-1].split('_')[0]\n",
    "        nib.save(nod_nib, f'../data/NII_nod_smoothing/nod_{filename}_{mask_idx+1}.nii.gz')"
   ]
  },
  {
   "cell_type": "markdown",
   "metadata": {},
   "source": [
    "## Save all nodule with Smoothing"
   ]
  },
  {
   "cell_type": "code",
   "execution_count": null,
   "metadata": {},
   "outputs": [],
   "source": [
    "with open('../nod_smoothing.csv', 'r') as f:\n",
    "    df = pd.read_csv(f)\n",
    "df_len = len(df)\n",
    "\n",
    "nod_height = []\n",
    "nod_width = []\n",
    "nod_depth = []\n",
    "drop_img = []"
   ]
  },
  {
   "cell_type": "code",
   "execution_count": 124,
   "metadata": {},
   "outputs": [
    {
     "name": "stderr",
     "output_type": "stream",
     "text": [
      "100%|██████████| 2925/2925 [45:33<00:00,  1.07it/s]  \n"
     ]
    }
   ],
   "source": [
    "for idx in tqdm(range(df_len)):\n",
    "    \n",
    "    if (df.height.iloc[idx] == 0) & (df.width.iloc[idx] == 0) & (df.depth.iloc[idx]==0):\n",
    "        nod_height.append(0)\n",
    "        nod_width.append(0)\n",
    "        nod_depth.append(0)\n",
    "        drop_img.append(idx)\n",
    "        continue\n",
    "    \n",
    "    img_path = os.path.join('..', df.img_path.iloc[idx])\n",
    "    mask_path =  os.path.join('..', df.nod_path.iloc[idx])\n",
    "    \n",
    "    if os.path.exists(img_path) and os.path.exists(mask_path) == False:\n",
    "        nod_height.append(0)\n",
    "        nod_width.append(0)\n",
    "        nod_depth.append(0)\n",
    "        drop_img.append(idx)\n",
    "        continue\n",
    "    \n",
    "    img = nib.load(img_path).get_fdata()\n",
    "    img = np.uint8(img)\n",
    "\n",
    "    nod = np.array(nib.load(mask_path).get_fdata())\n",
    "    nod = np.uint8(nod)\n",
    "    nod_pos = np.where(nod > 35)\n",
    "    \n",
    "    if len(nod_pos[0]) == 0:\n",
    "        nod_height.append(0)\n",
    "        nod_width.append(0)\n",
    "        nod_depth.append(0)        \n",
    "        drop_img.append(idx)\n",
    "        continue\n",
    "    \n",
    "    nod_only = nod[min(nod_pos[0]):max(nod_pos[0]), min(nod_pos[1]):max(nod_pos[1]), min(nod_pos[2]):max(nod_pos[2])]\n",
    "    nod_shape = nod_only.shape\n",
    "    \n",
    "    nod_height.append(nod_shape[2])\n",
    "    nod_width.append(nod_shape[1])\n",
    "    nod_depth.append(nod_shape[0])\n",
    "    \n",
    "    nod_nib = nib.Nifti1Image(nod_only, affine=np.eye(4))\n",
    "\n",
    "    filename = mask_path.split('/')[-1].split('_')[0]\n",
    "    mask_num = mask_path.split('/')[-1].split('_')[-1].split('.')[0]\n",
    "    nib.save(nod_nib, f'../data/NII_nod_smooth/nod_{filename}_{mask_num}.nii.gz')\n"
   ]
  },
  {
   "cell_type": "code",
   "execution_count": 126,
   "metadata": {},
   "outputs": [],
   "source": [
    "# modify and save nodule.csv\n",
    "del df['height']\n",
    "del df['width']\n",
    "del df['depth']\n",
    "\n",
    "df['height'] = nod_height\n",
    "df['width'] = nod_width \n",
    "df['depth'] = nod_depth\n",
    "\n",
    "df.to_csv('../nod_smoothing_35.csv', index=False)"
   ]
  },
  {
   "cell_type": "markdown",
   "metadata": {},
   "source": [
    "### Save nodule > 10mm (20mm와 동일)"
   ]
  },
  {
   "cell_type": "code",
   "execution_count": 32,
   "metadata": {},
   "outputs": [],
   "source": [
    "with open('../nod_smoothing_10_10mm.csv', 'r') as f:\n",
    "    df = pd.read_csv(f)"
   ]
  },
  {
   "cell_type": "code",
   "execution_count": null,
   "metadata": {
    "scrolled": true
   },
   "outputs": [],
   "source": [
    "#save nodule > 10mm, 20mm\n",
    "\n",
    "df_len = len(df)\n",
    "img_num = 1\n",
    "\n",
    "for idx in tqdm(range(df_len)):\n",
    "    img_path = os.path.join('..', df.img_path.iloc[idx])\n",
    "    mask_path =  os.path.join('..', df.nod_path.iloc[idx])\n",
    "    \n",
    "    img = nib.load(img_path).get_fdata()\n",
    "    img = np.uint8(img)\n",
    "\n",
    "    nod = np.array(nib.load(mask_path).get_fdata())\n",
    "    nod = np.uint8(nod)\n",
    "    nod_pos = np.where(nod >= 10) # smoothing 10\n",
    "\n",
    "    nod_only = nod[min(nod_pos[0]):max(nod_pos[0]), min(nod_pos[1]):max(nod_pos[1]), min(nod_pos[2]):max(nod_pos[2])]\n",
    "    nod_nib = nib.Nifti1Image(nod_only, affine=np.eye(4))\n",
    "\n",
    "    filename = mask_path.split('/')[-1].split('_')[0]\n",
    "    mask_num = mask_path.split('/')[-1].split('_')[-1].split('.')[0]\n",
    "    \n",
    "    if os.path.exists(f'../data/NII_nod_smooth10_10/nod_{filename}_{mask_num}.nii.gz') == False:\n",
    "        nib.save(nod_nib, f'../data/NII_nod_smooth10_10/nod_{filename}_{mask_num}.nii.gz')\n",
    "        img_num = 1\n",
    "    else:\n",
    "        nib.save(nod_nib, f'../data/NII_nod_smooth10_10/nod_{filename}_{img_num}_{mask_num}.nii.gz')\n",
    "        img_num += 1\n"
   ]
  }
 ],
 "metadata": {
  "kernelspec": {
   "display_name": "Python 3",
   "language": "python",
   "name": "python3"
  },
  "language_info": {
   "codemirror_mode": {
    "name": "ipython",
    "version": 3
   },
   "file_extension": ".py",
   "mimetype": "text/x-python",
   "name": "python",
   "nbconvert_exporter": "python",
   "pygments_lexer": "ipython3",
   "version": "3.7.4"
  }
 },
 "nbformat": 4,
 "nbformat_minor": 4
}
